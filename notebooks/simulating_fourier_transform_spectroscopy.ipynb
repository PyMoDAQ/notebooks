{
 "cells": [
  {
   "cell_type": "markdown",
   "id": "702bac36-150b-4628-baf5-1fe4e0333c87",
   "metadata": {},
   "source": [
    "# Fourier Transform Spectroscopy\n",
    "\n",
    "The idea of this tutorial is to show how one can use PyMoDAQ data objects to construct a physical simulation: here to explore the temporal/spectral properties of coherent light pulses such as a laser. We will define the pulse in the spectral domain and get it in the time domain, via Fourier Transform. We will see how the spectral phase modify the temporal shape of a pulse\n",
    "\n",
    "The idea is to simulate a temporal pulse from its spectral properties, linear phase, quadratic phase, ...\n",
    "\n",
    "We will:\n",
    "\n",
    "* construct our pulse in the spectral domain\n",
    "* calculate its temporal field\n",
    "* extract some relevant physical quantities and compare them to analytical expressions\n",
    "\n",
    "## Pulses\n",
    "\n",
    "Lets define our temporal pulses on a regular temporal grid (Axis) and some typical physical values"
   ]
  },
  {
   "cell_type": "code",
   "execution_count": 1,
   "id": "2c14c25e-0175-46a3-adac-07a59f842975",
   "metadata": {},
   "outputs": [
    {
     "name": "stdout",
     "output_type": "stream",
     "text": [
      "<class 'pint.Quantity'>\n",
      "2.668512761585217 fs\n",
      "0.3747405724999999\n",
      "PHz\n",
      "omega0: 2.354564459136066 rad / fs\n"
     ]
    }
   ],
   "source": [
    "%gui qt\n",
    "import pymodaq_gui  # allows plotting using the Qt backend\n",
    "from pymodaq_data import Q_\n",
    "import numpy as np\n",
    "\n",
    "print(Q_)\n",
    "\n",
    "Nt = 2**10 # number of point on the grid\n",
    "\n",
    "lambda0 = Q_(800, 'nm')  # typical central wavelength of a pulse (but wavelength is non linar in energy...)\n",
    "f0 = lambda0.to('PHz', 'spectroscopy')\n",
    "omega0 = (2 * np.pi * f0).to('rad/fs')\n",
    "T0 = (1 / f0).to('fs')\n",
    "\n",
    "Nperiod = 100\n",
    "\n",
    "print(f'{T0}')\n",
    "print(f0.magnitude)\n",
    "print(f0.units)\n",
    "print(f'omega0: {omega0}')"
   ]
  },
  {
   "cell_type": "code",
   "execution_count": 2,
   "id": "12959541-2a22-4987-bd96-077be12041ac",
   "metadata": {},
   "outputs": [
    {
     "ename": "DimensionalityError",
     "evalue": "Cannot convert from 'nanometer' ([length]) to 'petahertz' (1 / [time])",
     "output_type": "error",
     "traceback": [
      "\u001b[1;31m---------------------------------------------------------------------------\u001b[0m",
      "\u001b[1;31mDimensionalityError\u001b[0m                       Traceback (most recent call last)",
      "Cell \u001b[1;32mIn[2], line 1\u001b[0m\n\u001b[1;32m----> 1\u001b[0m f0 \u001b[38;5;241m=\u001b[39m \u001b[43mlambda0\u001b[49m\u001b[38;5;241;43m.\u001b[39;49m\u001b[43mto\u001b[49m\u001b[43m(\u001b[49m\u001b[38;5;124;43m'\u001b[39;49m\u001b[38;5;124;43mPHz\u001b[39;49m\u001b[38;5;124;43m'\u001b[39;49m\u001b[43m)\u001b[49m\n",
      "File \u001b[1;32mC:\\ProgramData\\miniforge3\\envs\\data_manipulation\\Lib\\site-packages\\pint\\facets\\plain\\quantity.py:536\u001b[0m, in \u001b[0;36mPlainQuantity.to\u001b[1;34m(self, other, *contexts, **ctx_kwargs)\u001b[0m\n\u001b[0;32m    519\u001b[0m \u001b[38;5;250m\u001b[39m\u001b[38;5;124;03m\"\"\"Return PlainQuantity rescaled to different units.\u001b[39;00m\n\u001b[0;32m    520\u001b[0m \n\u001b[0;32m    521\u001b[0m \u001b[38;5;124;03mParameters\u001b[39;00m\n\u001b[1;32m   (...)\u001b[0m\n\u001b[0;32m    532\u001b[0m \u001b[38;5;124;03mpint.PlainQuantity\u001b[39;00m\n\u001b[0;32m    533\u001b[0m \u001b[38;5;124;03m\"\"\"\u001b[39;00m\n\u001b[0;32m    534\u001b[0m other \u001b[38;5;241m=\u001b[39m to_units_container(other, \u001b[38;5;28mself\u001b[39m\u001b[38;5;241m.\u001b[39m_REGISTRY)\n\u001b[1;32m--> 536\u001b[0m magnitude \u001b[38;5;241m=\u001b[39m \u001b[38;5;28;43mself\u001b[39;49m\u001b[38;5;241;43m.\u001b[39;49m\u001b[43m_convert_magnitude_not_inplace\u001b[49m\u001b[43m(\u001b[49m\u001b[43mother\u001b[49m\u001b[43m,\u001b[49m\u001b[43m \u001b[49m\u001b[38;5;241;43m*\u001b[39;49m\u001b[43mcontexts\u001b[49m\u001b[43m,\u001b[49m\u001b[43m \u001b[49m\u001b[38;5;241;43m*\u001b[39;49m\u001b[38;5;241;43m*\u001b[39;49m\u001b[43mctx_kwargs\u001b[49m\u001b[43m)\u001b[49m\n\u001b[0;32m    538\u001b[0m \u001b[38;5;28;01mreturn\u001b[39;00m \u001b[38;5;28mself\u001b[39m\u001b[38;5;241m.\u001b[39m\u001b[38;5;18m__class__\u001b[39m(magnitude, other)\n",
      "File \u001b[1;32mC:\\ProgramData\\miniforge3\\envs\\data_manipulation\\Lib\\site-packages\\pint\\facets\\plain\\quantity.py:480\u001b[0m, in \u001b[0;36mPlainQuantity._convert_magnitude_not_inplace\u001b[1;34m(self, other, *contexts, **ctx_kwargs)\u001b[0m\n\u001b[0;32m    477\u001b[0m     \u001b[38;5;28;01mwith\u001b[39;00m \u001b[38;5;28mself\u001b[39m\u001b[38;5;241m.\u001b[39m_REGISTRY\u001b[38;5;241m.\u001b[39mcontext(\u001b[38;5;241m*\u001b[39mcontexts, \u001b[38;5;241m*\u001b[39m\u001b[38;5;241m*\u001b[39mctx_kwargs):\n\u001b[0;32m    478\u001b[0m         \u001b[38;5;28;01mreturn\u001b[39;00m \u001b[38;5;28mself\u001b[39m\u001b[38;5;241m.\u001b[39m_REGISTRY\u001b[38;5;241m.\u001b[39mconvert(\u001b[38;5;28mself\u001b[39m\u001b[38;5;241m.\u001b[39m_magnitude, \u001b[38;5;28mself\u001b[39m\u001b[38;5;241m.\u001b[39m_units, other)\n\u001b[1;32m--> 480\u001b[0m \u001b[38;5;28;01mreturn\u001b[39;00m \u001b[38;5;28;43mself\u001b[39;49m\u001b[38;5;241;43m.\u001b[39;49m\u001b[43m_REGISTRY\u001b[49m\u001b[38;5;241;43m.\u001b[39;49m\u001b[43mconvert\u001b[49m\u001b[43m(\u001b[49m\u001b[38;5;28;43mself\u001b[39;49m\u001b[38;5;241;43m.\u001b[39;49m\u001b[43m_magnitude\u001b[49m\u001b[43m,\u001b[49m\u001b[43m \u001b[49m\u001b[38;5;28;43mself\u001b[39;49m\u001b[38;5;241;43m.\u001b[39;49m\u001b[43m_units\u001b[49m\u001b[43m,\u001b[49m\u001b[43m \u001b[49m\u001b[43mother\u001b[49m\u001b[43m)\u001b[49m\n",
      "File \u001b[1;32mC:\\ProgramData\\miniforge3\\envs\\data_manipulation\\Lib\\site-packages\\pint\\facets\\plain\\registry.py:1050\u001b[0m, in \u001b[0;36mGenericPlainRegistry.convert\u001b[1;34m(self, value, src, dst, inplace)\u001b[0m\n\u001b[0;32m   1047\u001b[0m \u001b[38;5;28;01mif\u001b[39;00m src \u001b[38;5;241m==\u001b[39m dst:\n\u001b[0;32m   1048\u001b[0m     \u001b[38;5;28;01mreturn\u001b[39;00m value\n\u001b[1;32m-> 1050\u001b[0m \u001b[38;5;28;01mreturn\u001b[39;00m \u001b[38;5;28;43mself\u001b[39;49m\u001b[38;5;241;43m.\u001b[39;49m\u001b[43m_convert\u001b[49m\u001b[43m(\u001b[49m\u001b[43mvalue\u001b[49m\u001b[43m,\u001b[49m\u001b[43m \u001b[49m\u001b[43msrc\u001b[49m\u001b[43m,\u001b[49m\u001b[43m \u001b[49m\u001b[43mdst\u001b[49m\u001b[43m,\u001b[49m\u001b[43m \u001b[49m\u001b[43minplace\u001b[49m\u001b[43m)\u001b[49m\n",
      "File \u001b[1;32mC:\\ProgramData\\miniforge3\\envs\\data_manipulation\\Lib\\site-packages\\pint\\facets\\context\\registry.py:405\u001b[0m, in \u001b[0;36mGenericContextRegistry._convert\u001b[1;34m(self, value, src, dst, inplace)\u001b[0m\n\u001b[0;32m    401\u001b[0m             src \u001b[38;5;241m=\u001b[39m \u001b[38;5;28mself\u001b[39m\u001b[38;5;241m.\u001b[39m_active_ctx\u001b[38;5;241m.\u001b[39mtransform(a, b, \u001b[38;5;28mself\u001b[39m, src)\n\u001b[0;32m    403\u001b[0m         value, src \u001b[38;5;241m=\u001b[39m src\u001b[38;5;241m.\u001b[39m_magnitude, src\u001b[38;5;241m.\u001b[39m_units\n\u001b[1;32m--> 405\u001b[0m \u001b[38;5;28;01mreturn\u001b[39;00m \u001b[38;5;28;43msuper\u001b[39;49m\u001b[43m(\u001b[49m\u001b[43m)\u001b[49m\u001b[38;5;241;43m.\u001b[39;49m\u001b[43m_convert\u001b[49m\u001b[43m(\u001b[49m\u001b[43mvalue\u001b[49m\u001b[43m,\u001b[49m\u001b[43m \u001b[49m\u001b[43msrc\u001b[49m\u001b[43m,\u001b[49m\u001b[43m \u001b[49m\u001b[43mdst\u001b[49m\u001b[43m,\u001b[49m\u001b[43m \u001b[49m\u001b[43minplace\u001b[49m\u001b[43m)\u001b[49m\n",
      "File \u001b[1;32mC:\\ProgramData\\miniforge3\\envs\\data_manipulation\\Lib\\site-packages\\pint\\facets\\nonmultiplicative\\registry.py:259\u001b[0m, in \u001b[0;36mGenericNonMultiplicativeRegistry._convert\u001b[1;34m(self, value, src, dst, inplace)\u001b[0m\n\u001b[0;32m    257\u001b[0m \u001b[38;5;66;03m# convert if no offset units are present\u001b[39;00m\n\u001b[0;32m    258\u001b[0m \u001b[38;5;28;01mif\u001b[39;00m \u001b[38;5;129;01mnot\u001b[39;00m (src_offset_unit \u001b[38;5;129;01mor\u001b[39;00m dst_offset_unit):\n\u001b[1;32m--> 259\u001b[0m     \u001b[38;5;28;01mreturn\u001b[39;00m \u001b[38;5;28;43msuper\u001b[39;49m\u001b[43m(\u001b[49m\u001b[43m)\u001b[49m\u001b[38;5;241;43m.\u001b[39;49m\u001b[43m_convert\u001b[49m\u001b[43m(\u001b[49m\u001b[43mvalue\u001b[49m\u001b[43m,\u001b[49m\u001b[43m \u001b[49m\u001b[43msrc\u001b[49m\u001b[43m,\u001b[49m\u001b[43m \u001b[49m\u001b[43mdst\u001b[49m\u001b[43m,\u001b[49m\u001b[43m \u001b[49m\u001b[43minplace\u001b[49m\u001b[43m)\u001b[49m\n\u001b[0;32m    261\u001b[0m src_dim \u001b[38;5;241m=\u001b[39m \u001b[38;5;28mself\u001b[39m\u001b[38;5;241m.\u001b[39m_get_dimensionality(src)\n\u001b[0;32m    262\u001b[0m dst_dim \u001b[38;5;241m=\u001b[39m \u001b[38;5;28mself\u001b[39m\u001b[38;5;241m.\u001b[39m_get_dimensionality(dst)\n",
      "File \u001b[1;32mC:\\ProgramData\\miniforge3\\envs\\data_manipulation\\Lib\\site-packages\\pint\\facets\\plain\\registry.py:1085\u001b[0m, in \u001b[0;36mGenericPlainRegistry._convert\u001b[1;34m(self, value, src, dst, inplace, check_dimensionality)\u001b[0m\n\u001b[0;32m   1082\u001b[0m factor \u001b[38;5;241m=\u001b[39m \u001b[38;5;28mself\u001b[39m\u001b[38;5;241m.\u001b[39m_get_conversion_factor(src, dst)\n\u001b[0;32m   1084\u001b[0m \u001b[38;5;28;01mif\u001b[39;00m \u001b[38;5;28misinstance\u001b[39m(factor, DimensionalityError):\n\u001b[1;32m-> 1085\u001b[0m     \u001b[38;5;28;01mraise\u001b[39;00m factor\n\u001b[0;32m   1087\u001b[0m \u001b[38;5;66;03m# factor is type float and if our magnitude is type Decimal then\u001b[39;00m\n\u001b[0;32m   1088\u001b[0m \u001b[38;5;66;03m# must first convert to Decimal before we can '*' the values\u001b[39;00m\n\u001b[0;32m   1089\u001b[0m \u001b[38;5;28;01mif\u001b[39;00m \u001b[38;5;28misinstance\u001b[39m(value, Decimal):\n",
      "\u001b[1;31mDimensionalityError\u001b[0m: Cannot convert from 'nanometer' ([length]) to 'petahertz' (1 / [time])"
     ]
    }
   ],
   "source": [
    "f0 = lambda0.to('PHz')"
   ]
  },
  {
   "cell_type": "markdown",
   "id": "b30371cc-fe12-40af-b6a6-0ce5d2856c2b",
   "metadata": {},
   "source": [
    "### Units in Python: the pint module and quantity?\n",
    "\n",
    "We used and saw above the introduction of a Quantity object that has many usefull properties when dealing with physical quantities, for instance see how we converted from wavelength in nanometer to frequency. Try out without the *spectroscopy* context:"
   ]
  },
  {
   "cell_type": "code",
   "execution_count": 3,
   "id": "dafebcf3-96f7-4952-aef7-fbc88e68df83",
   "metadata": {},
   "outputs": [
    {
     "data": {
      "text/plain": [
       "2.668512761585217e-15"
      ]
     },
     "execution_count": 3,
     "metadata": {},
     "output_type": "execute_result"
    }
   ],
   "source": [
    "T0.m_as('s')"
   ]
  },
  {
   "cell_type": "markdown",
   "id": "8bd550e7-cbbb-419d-82c1-2ce88cdaa1a1",
   "metadata": {},
   "source": [
    "PyMoDAQ in v5 is embarking upon using units compatibility in all data objects. This has advantages (automatic unit conversion upon operation between objects with compatible units) but also some restrictions (you cannot do any operation if their units are incompatible...well except if you specify your objects to be dimensionless... but be aware of unit incompatibility)"
   ]
  },
  {
   "cell_type": "code",
   "execution_count": 4,
   "id": "1e6e1a24-eab8-4b3b-b674-d366369e093b",
   "metadata": {},
   "outputs": [
    {
     "name": "stdout",
     "output_type": "stream",
     "text": [
      "[1.001 2.002 3.003] m\n",
      "[1001.0 2002.0 3003.0] mm\n"
     ]
    }
   ],
   "source": [
    "from pymodaq_data.data import Axis, DataRaw\n",
    "import pymodaq_gui\n",
    "\n",
    "dwa_m = DataRaw('length in meter', units='m', data=[np.array([1, 2, 3])])\n",
    "dwa_m_dimensionless = DataRaw('length in meter', units='', data=[np.array([1, 2, 3])])\n",
    "\n",
    "dwa_mm = DataRaw('length in millimeter', units='mm', data=[np.array([1, 2, 3])])\n",
    "dwa_mm_dimensionless = DataRaw('length in millimeter', units='', data=[np.array([1, 2, 3])])\n",
    "\n",
    "print((dwa_m + dwa_mm).quantities[0])\n",
    "print((dwa_mm + dwa_m).quantities[0])"
   ]
  },
  {
   "cell_type": "code",
   "execution_count": 5,
   "id": "f882d25e-652b-41f0-8560-b4fe56a463ad",
   "metadata": {},
   "outputs": [
    {
     "data": {
      "text/plain": [
       "[<Quantity([1.001 2.002 3.003], 'meter')>]"
      ]
     },
     "execution_count": 5,
     "metadata": {},
     "output_type": "execute_result"
    }
   ],
   "source": [
    "(dwa_mm + dwa_m).units_as('m').quantities"
   ]
  },
  {
   "cell_type": "code",
   "execution_count": 6,
   "id": "c9564664-bc91-4767-aa90-4a0c479416c2",
   "metadata": {},
   "outputs": [
    {
     "name": "stdout",
     "output_type": "stream",
     "text": [
      "[2 4 6]\n",
      "[2 4 6]\n"
     ]
    }
   ],
   "source": [
    "print((dwa_m_dimensionless + dwa_mm_dimensionless).quantities[0])\n",
    "print((dwa_mm_dimensionless + dwa_m_dimensionless).quantities[0])"
   ]
  },
  {
   "cell_type": "code",
   "execution_count": 7,
   "id": "e15ad524-cfd7-4d61-a762-8547a2057ba8",
   "metadata": {},
   "outputs": [
    {
     "ename": "DimensionalityError",
     "evalue": "Cannot convert from 'dimensionless' (dimensionless) to 'meter' ([length])",
     "output_type": "error",
     "traceback": [
      "\u001b[1;31m---------------------------------------------------------------------------\u001b[0m",
      "\u001b[1;31mDimensionalityError\u001b[0m                       Traceback (most recent call last)",
      "Cell \u001b[1;32mIn[7], line 1\u001b[0m\n\u001b[1;32m----> 1\u001b[0m \u001b[38;5;28mprint\u001b[39m((\u001b[43mdwa_m\u001b[49m\u001b[43m \u001b[49m\u001b[38;5;241;43m+\u001b[39;49m\u001b[43m \u001b[49m\u001b[43mdwa_mm_dimensionless\u001b[49m)\u001b[38;5;241m.\u001b[39mquantities[\u001b[38;5;241m0\u001b[39m])\n",
      "File \u001b[1;32mC:\\ProgramData\\miniforge3\\envs\\data_manipulation\\Lib\\site-packages\\numpy\\lib\\mixins.py:21\u001b[0m, in \u001b[0;36m_binary_method.<locals>.func\u001b[1;34m(self, other)\u001b[0m\n\u001b[0;32m     19\u001b[0m \u001b[38;5;28;01mif\u001b[39;00m _disables_array_ufunc(other):\n\u001b[0;32m     20\u001b[0m     \u001b[38;5;28;01mreturn\u001b[39;00m \u001b[38;5;28mNotImplemented\u001b[39m\n\u001b[1;32m---> 21\u001b[0m \u001b[38;5;28;01mreturn\u001b[39;00m \u001b[43mufunc\u001b[49m\u001b[43m(\u001b[49m\u001b[38;5;28;43mself\u001b[39;49m\u001b[43m,\u001b[49m\u001b[43m \u001b[49m\u001b[43mother\u001b[49m\u001b[43m)\u001b[49m\n",
      "File \u001b[1;32mC:\\ProgramData\\miniforge3\\envs\\data_manipulation\\Lib\\site-packages\\pymodaq_data\\data.py:959\u001b[0m, in \u001b[0;36mDataBase.__array_ufunc__\u001b[1;34m(self, ufunc, method, *inputs, **kwargs)\u001b[0m\n\u001b[0;32m    957\u001b[0m dwa\u001b[38;5;241m.\u001b[39mname \u001b[38;5;241m=\u001b[39m \u001b[38;5;124mf\u001b[39m\u001b[38;5;124m'\u001b[39m\u001b[38;5;132;01m{\u001b[39;00m\u001b[38;5;28mself\u001b[39m\u001b[38;5;241m.\u001b[39mname\u001b[38;5;132;01m}\u001b[39;00m\u001b[38;5;124m_\u001b[39m\u001b[38;5;132;01m{\u001b[39;00mufunc_name\u001b[38;5;132;01m}\u001b[39;00m\u001b[38;5;124m'\u001b[39m\n\u001b[0;32m    958\u001b[0m units \u001b[38;5;241m=\u001b[39m dwa\u001b[38;5;241m.\u001b[39munits\n\u001b[1;32m--> 959\u001b[0m ufunc_results \u001b[38;5;241m=\u001b[39m \u001b[43m[\u001b[49m\u001b[43mufunc\u001b[49m\u001b[43m(\u001b[49m\u001b[38;5;241;43m*\u001b[39;49m\u001b[43mzipped\u001b[49m\u001b[43m,\u001b[49m\u001b[43m \u001b[49m\u001b[38;5;241;43m*\u001b[39;49m\u001b[38;5;241;43m*\u001b[39;49m\u001b[43mkwargs\u001b[49m\u001b[43m)\u001b[49m\u001b[43m \u001b[49m\u001b[38;5;28;43;01mfor\u001b[39;49;00m\u001b[43m \u001b[49m\u001b[43mzipped\u001b[49m\u001b[43m \u001b[49m\u001b[38;5;129;43;01min\u001b[39;49;00m\u001b[43m \u001b[49m\u001b[38;5;28;43mlist\u001b[39;49m\u001b[43m(\u001b[49m\u001b[38;5;28;43mzip\u001b[39;49m\u001b[43m(\u001b[49m\u001b[38;5;241;43m*\u001b[39;49m\u001b[43melts\u001b[49m\u001b[43m)\u001b[49m\u001b[43m)\u001b[49m\u001b[43m]\u001b[49m\n\u001b[0;32m    960\u001b[0m \u001b[38;5;28;01mif\u001b[39;00m \u001b[38;5;28misinstance\u001b[39m(ufunc_results[\u001b[38;5;241m0\u001b[39m], Q_):\n\u001b[0;32m    961\u001b[0m     ufunc_results \u001b[38;5;241m=\u001b[39m [ufunc_result\u001b[38;5;241m.\u001b[39mto_reduced_units() \u001b[38;5;28;01mfor\u001b[39;00m ufunc_result \u001b[38;5;129;01min\u001b[39;00m ufunc_results]\n",
      "File \u001b[1;32mC:\\ProgramData\\miniforge3\\envs\\data_manipulation\\Lib\\site-packages\\pymodaq_data\\data.py:959\u001b[0m, in \u001b[0;36m<listcomp>\u001b[1;34m(.0)\u001b[0m\n\u001b[0;32m    957\u001b[0m dwa\u001b[38;5;241m.\u001b[39mname \u001b[38;5;241m=\u001b[39m \u001b[38;5;124mf\u001b[39m\u001b[38;5;124m'\u001b[39m\u001b[38;5;132;01m{\u001b[39;00m\u001b[38;5;28mself\u001b[39m\u001b[38;5;241m.\u001b[39mname\u001b[38;5;132;01m}\u001b[39;00m\u001b[38;5;124m_\u001b[39m\u001b[38;5;132;01m{\u001b[39;00mufunc_name\u001b[38;5;132;01m}\u001b[39;00m\u001b[38;5;124m'\u001b[39m\n\u001b[0;32m    958\u001b[0m units \u001b[38;5;241m=\u001b[39m dwa\u001b[38;5;241m.\u001b[39munits\n\u001b[1;32m--> 959\u001b[0m ufunc_results \u001b[38;5;241m=\u001b[39m [\u001b[43mufunc\u001b[49m\u001b[43m(\u001b[49m\u001b[38;5;241;43m*\u001b[39;49m\u001b[43mzipped\u001b[49m\u001b[43m,\u001b[49m\u001b[43m \u001b[49m\u001b[38;5;241;43m*\u001b[39;49m\u001b[38;5;241;43m*\u001b[39;49m\u001b[43mkwargs\u001b[49m\u001b[43m)\u001b[49m \u001b[38;5;28;01mfor\u001b[39;00m zipped \u001b[38;5;129;01min\u001b[39;00m \u001b[38;5;28mlist\u001b[39m(\u001b[38;5;28mzip\u001b[39m(\u001b[38;5;241m*\u001b[39melts))]\n\u001b[0;32m    960\u001b[0m \u001b[38;5;28;01mif\u001b[39;00m \u001b[38;5;28misinstance\u001b[39m(ufunc_results[\u001b[38;5;241m0\u001b[39m], Q_):\n\u001b[0;32m    961\u001b[0m     ufunc_results \u001b[38;5;241m=\u001b[39m [ufunc_result\u001b[38;5;241m.\u001b[39mto_reduced_units() \u001b[38;5;28;01mfor\u001b[39;00m ufunc_result \u001b[38;5;129;01min\u001b[39;00m ufunc_results]\n",
      "File \u001b[1;32mC:\\ProgramData\\miniforge3\\envs\\data_manipulation\\Lib\\site-packages\\pint\\facets\\numpy\\numpy_func.py:524\u001b[0m, in \u001b[0;36m_add\u001b[1;34m(x1, x2, *args, **kwargs)\u001b[0m\n\u001b[0;32m    522\u001b[0m \u001b[38;5;129m@implements\u001b[39m(\u001b[38;5;124m\"\u001b[39m\u001b[38;5;124madd\u001b[39m\u001b[38;5;124m\"\u001b[39m, \u001b[38;5;124m\"\u001b[39m\u001b[38;5;124mufunc\u001b[39m\u001b[38;5;124m\"\u001b[39m)\n\u001b[0;32m    523\u001b[0m \u001b[38;5;28;01mdef\u001b[39;00m\u001b[38;5;250m \u001b[39m\u001b[38;5;21m_add\u001b[39m(x1, x2, \u001b[38;5;241m*\u001b[39margs, \u001b[38;5;241m*\u001b[39m\u001b[38;5;241m*\u001b[39mkwargs):\n\u001b[1;32m--> 524\u001b[0m     (x1, x2), output_wrap \u001b[38;5;241m=\u001b[39m \u001b[43munwrap_and_wrap_consistent_units\u001b[49m\u001b[43m(\u001b[49m\u001b[43mx1\u001b[49m\u001b[43m,\u001b[49m\u001b[43m \u001b[49m\u001b[43mx2\u001b[49m\u001b[43m)\u001b[49m\n\u001b[0;32m    525\u001b[0m     \u001b[38;5;28;01mreturn\u001b[39;00m output_wrap(np\u001b[38;5;241m.\u001b[39madd(x1, x2, \u001b[38;5;241m*\u001b[39margs, \u001b[38;5;241m*\u001b[39m\u001b[38;5;241m*\u001b[39mkwargs))\n",
      "File \u001b[1;32mC:\\ProgramData\\miniforge3\\envs\\data_manipulation\\Lib\\site-packages\\pint\\facets\\numpy\\numpy_func.py:134\u001b[0m, in \u001b[0;36munwrap_and_wrap_consistent_units\u001b[1;34m(*args)\u001b[0m\n\u001b[0;32m    131\u001b[0m     \u001b[38;5;28;01mreturn\u001b[39;00m args, \u001b[38;5;28;01mlambda\u001b[39;00m x: x\n\u001b[0;32m    133\u001b[0m first_input_units \u001b[38;5;241m=\u001b[39m _get_first_input_units(args)\n\u001b[1;32m--> 134\u001b[0m args, _ \u001b[38;5;241m=\u001b[39m \u001b[43mconvert_to_consistent_units\u001b[49m\u001b[43m(\u001b[49m\u001b[38;5;241;43m*\u001b[39;49m\u001b[43margs\u001b[49m\u001b[43m,\u001b[49m\u001b[43m \u001b[49m\u001b[43mpre_calc_units\u001b[49m\u001b[38;5;241;43m=\u001b[39;49m\u001b[43mfirst_input_units\u001b[49m\u001b[43m)\u001b[49m\n\u001b[0;32m    135\u001b[0m \u001b[38;5;28;01mreturn\u001b[39;00m (\n\u001b[0;32m    136\u001b[0m     args,\n\u001b[0;32m    137\u001b[0m     \u001b[38;5;28;01mlambda\u001b[39;00m value: first_input_units\u001b[38;5;241m.\u001b[39m_REGISTRY\u001b[38;5;241m.\u001b[39mQuantity(value, first_input_units),\n\u001b[0;32m    138\u001b[0m )\n",
      "File \u001b[1;32mC:\\ProgramData\\miniforge3\\envs\\data_manipulation\\Lib\\site-packages\\pint\\facets\\numpy\\numpy_func.py:115\u001b[0m, in \u001b[0;36mconvert_to_consistent_units\u001b[1;34m(pre_calc_units, *args, **kwargs)\u001b[0m\n\u001b[0;32m    105\u001b[0m \u001b[38;5;28;01mdef\u001b[39;00m\u001b[38;5;250m \u001b[39m\u001b[38;5;21mconvert_to_consistent_units\u001b[39m(\u001b[38;5;241m*\u001b[39margs, pre_calc_units\u001b[38;5;241m=\u001b[39m\u001b[38;5;28;01mNone\u001b[39;00m, \u001b[38;5;241m*\u001b[39m\u001b[38;5;241m*\u001b[39mkwargs):\n\u001b[0;32m    106\u001b[0m \u001b[38;5;250m    \u001b[39m\u001b[38;5;124;03m\"\"\"Prepare args and kwargs for wrapping by unit conversion and stripping.\u001b[39;00m\n\u001b[0;32m    107\u001b[0m \n\u001b[0;32m    108\u001b[0m \u001b[38;5;124;03m    If pre_calc_units is not None, takes the args and kwargs for a NumPy function and\u001b[39;00m\n\u001b[1;32m   (...)\u001b[0m\n\u001b[0;32m    112\u001b[0m \u001b[38;5;124;03m    stripped.\u001b[39;00m\n\u001b[0;32m    113\u001b[0m \u001b[38;5;124;03m    \"\"\"\u001b[39;00m\n\u001b[0;32m    114\u001b[0m     \u001b[38;5;28;01mreturn\u001b[39;00m (\n\u001b[1;32m--> 115\u001b[0m         \u001b[38;5;28;43mtuple\u001b[39;49m\u001b[43m(\u001b[49m\u001b[43mconvert_arg\u001b[49m\u001b[43m(\u001b[49m\u001b[43marg\u001b[49m\u001b[43m,\u001b[49m\u001b[43m \u001b[49m\u001b[43mpre_calc_units\u001b[49m\u001b[38;5;241;43m=\u001b[39;49m\u001b[43mpre_calc_units\u001b[49m\u001b[43m)\u001b[49m\u001b[43m \u001b[49m\u001b[38;5;28;43;01mfor\u001b[39;49;00m\u001b[43m \u001b[49m\u001b[43marg\u001b[49m\u001b[43m \u001b[49m\u001b[38;5;129;43;01min\u001b[39;49;00m\u001b[43m \u001b[49m\u001b[43margs\u001b[49m\u001b[43m)\u001b[49m,\n\u001b[0;32m    116\u001b[0m         {\n\u001b[0;32m    117\u001b[0m             key: convert_arg(arg, pre_calc_units\u001b[38;5;241m=\u001b[39mpre_calc_units)\n\u001b[0;32m    118\u001b[0m             \u001b[38;5;28;01mfor\u001b[39;00m key, arg \u001b[38;5;129;01min\u001b[39;00m kwargs\u001b[38;5;241m.\u001b[39mitems()\n\u001b[0;32m    119\u001b[0m         },\n\u001b[0;32m    120\u001b[0m     )\n",
      "File \u001b[1;32mC:\\ProgramData\\miniforge3\\envs\\data_manipulation\\Lib\\site-packages\\pint\\facets\\numpy\\numpy_func.py:115\u001b[0m, in \u001b[0;36m<genexpr>\u001b[1;34m(.0)\u001b[0m\n\u001b[0;32m    105\u001b[0m \u001b[38;5;28;01mdef\u001b[39;00m\u001b[38;5;250m \u001b[39m\u001b[38;5;21mconvert_to_consistent_units\u001b[39m(\u001b[38;5;241m*\u001b[39margs, pre_calc_units\u001b[38;5;241m=\u001b[39m\u001b[38;5;28;01mNone\u001b[39;00m, \u001b[38;5;241m*\u001b[39m\u001b[38;5;241m*\u001b[39mkwargs):\n\u001b[0;32m    106\u001b[0m \u001b[38;5;250m    \u001b[39m\u001b[38;5;124;03m\"\"\"Prepare args and kwargs for wrapping by unit conversion and stripping.\u001b[39;00m\n\u001b[0;32m    107\u001b[0m \n\u001b[0;32m    108\u001b[0m \u001b[38;5;124;03m    If pre_calc_units is not None, takes the args and kwargs for a NumPy function and\u001b[39;00m\n\u001b[1;32m   (...)\u001b[0m\n\u001b[0;32m    112\u001b[0m \u001b[38;5;124;03m    stripped.\u001b[39;00m\n\u001b[0;32m    113\u001b[0m \u001b[38;5;124;03m    \"\"\"\u001b[39;00m\n\u001b[0;32m    114\u001b[0m     \u001b[38;5;28;01mreturn\u001b[39;00m (\n\u001b[1;32m--> 115\u001b[0m         \u001b[38;5;28mtuple\u001b[39m(\u001b[43mconvert_arg\u001b[49m\u001b[43m(\u001b[49m\u001b[43marg\u001b[49m\u001b[43m,\u001b[49m\u001b[43m \u001b[49m\u001b[43mpre_calc_units\u001b[49m\u001b[38;5;241;43m=\u001b[39;49m\u001b[43mpre_calc_units\u001b[49m\u001b[43m)\u001b[49m \u001b[38;5;28;01mfor\u001b[39;00m arg \u001b[38;5;129;01min\u001b[39;00m args),\n\u001b[0;32m    116\u001b[0m         {\n\u001b[0;32m    117\u001b[0m             key: convert_arg(arg, pre_calc_units\u001b[38;5;241m=\u001b[39mpre_calc_units)\n\u001b[0;32m    118\u001b[0m             \u001b[38;5;28;01mfor\u001b[39;00m key, arg \u001b[38;5;129;01min\u001b[39;00m kwargs\u001b[38;5;241m.\u001b[39mitems()\n\u001b[0;32m    119\u001b[0m         },\n\u001b[0;32m    120\u001b[0m     )\n",
      "File \u001b[1;32mC:\\ProgramData\\miniforge3\\envs\\data_manipulation\\Lib\\site-packages\\pint\\facets\\numpy\\numpy_func.py:88\u001b[0m, in \u001b[0;36mconvert_arg\u001b[1;34m(arg, pre_calc_units)\u001b[0m\n\u001b[0;32m     86\u001b[0m \u001b[38;5;28;01mif\u001b[39;00m pre_calc_units \u001b[38;5;129;01mis\u001b[39;00m \u001b[38;5;129;01mnot\u001b[39;00m \u001b[38;5;28;01mNone\u001b[39;00m:\n\u001b[0;32m     87\u001b[0m     \u001b[38;5;28;01mif\u001b[39;00m _is_quantity(arg):\n\u001b[1;32m---> 88\u001b[0m         \u001b[38;5;28;01mreturn\u001b[39;00m \u001b[43marg\u001b[49m\u001b[38;5;241;43m.\u001b[39;49m\u001b[43mm_as\u001b[49m\u001b[43m(\u001b[49m\u001b[43mpre_calc_units\u001b[49m\u001b[43m)\u001b[49m\n\u001b[0;32m     89\u001b[0m     \u001b[38;5;28;01melif\u001b[39;00m _is_sequence_with_quantity_elements(arg):\n\u001b[0;32m     90\u001b[0m         \u001b[38;5;28;01mreturn\u001b[39;00m [convert_arg(item, pre_calc_units) \u001b[38;5;28;01mfor\u001b[39;00m item \u001b[38;5;129;01min\u001b[39;00m arg]\n",
      "File \u001b[1;32mC:\\ProgramData\\miniforge3\\envs\\data_manipulation\\Lib\\site-packages\\pint\\facets\\plain\\quantity.py:315\u001b[0m, in \u001b[0;36mPlainQuantity.m_as\u001b[1;34m(self, units)\u001b[0m\n\u001b[0;32m    303\u001b[0m \u001b[38;5;28;01mdef\u001b[39;00m\u001b[38;5;250m \u001b[39m\u001b[38;5;21mm_as\u001b[39m(\u001b[38;5;28mself\u001b[39m, units) \u001b[38;5;241m-\u001b[39m\u001b[38;5;241m>\u001b[39m MagnitudeT:\n\u001b[0;32m    304\u001b[0m \u001b[38;5;250m    \u001b[39m\u001b[38;5;124;03m\"\"\"PlainQuantity's magnitude expressed in particular units.\u001b[39;00m\n\u001b[0;32m    305\u001b[0m \n\u001b[0;32m    306\u001b[0m \u001b[38;5;124;03m    Parameters\u001b[39;00m\n\u001b[1;32m   (...)\u001b[0m\n\u001b[0;32m    313\u001b[0m \n\u001b[0;32m    314\u001b[0m \u001b[38;5;124;03m    \"\"\"\u001b[39;00m\n\u001b[1;32m--> 315\u001b[0m     \u001b[38;5;28;01mreturn\u001b[39;00m \u001b[38;5;28;43mself\u001b[39;49m\u001b[38;5;241;43m.\u001b[39;49m\u001b[43mto\u001b[49m\u001b[43m(\u001b[49m\u001b[43munits\u001b[49m\u001b[43m)\u001b[49m\u001b[38;5;241m.\u001b[39mmagnitude\n",
      "File \u001b[1;32mC:\\ProgramData\\miniforge3\\envs\\data_manipulation\\Lib\\site-packages\\pint\\facets\\plain\\quantity.py:536\u001b[0m, in \u001b[0;36mPlainQuantity.to\u001b[1;34m(self, other, *contexts, **ctx_kwargs)\u001b[0m\n\u001b[0;32m    519\u001b[0m \u001b[38;5;250m\u001b[39m\u001b[38;5;124;03m\"\"\"Return PlainQuantity rescaled to different units.\u001b[39;00m\n\u001b[0;32m    520\u001b[0m \n\u001b[0;32m    521\u001b[0m \u001b[38;5;124;03mParameters\u001b[39;00m\n\u001b[1;32m   (...)\u001b[0m\n\u001b[0;32m    532\u001b[0m \u001b[38;5;124;03mpint.PlainQuantity\u001b[39;00m\n\u001b[0;32m    533\u001b[0m \u001b[38;5;124;03m\"\"\"\u001b[39;00m\n\u001b[0;32m    534\u001b[0m other \u001b[38;5;241m=\u001b[39m to_units_container(other, \u001b[38;5;28mself\u001b[39m\u001b[38;5;241m.\u001b[39m_REGISTRY)\n\u001b[1;32m--> 536\u001b[0m magnitude \u001b[38;5;241m=\u001b[39m \u001b[38;5;28;43mself\u001b[39;49m\u001b[38;5;241;43m.\u001b[39;49m\u001b[43m_convert_magnitude_not_inplace\u001b[49m\u001b[43m(\u001b[49m\u001b[43mother\u001b[49m\u001b[43m,\u001b[49m\u001b[43m \u001b[49m\u001b[38;5;241;43m*\u001b[39;49m\u001b[43mcontexts\u001b[49m\u001b[43m,\u001b[49m\u001b[43m \u001b[49m\u001b[38;5;241;43m*\u001b[39;49m\u001b[38;5;241;43m*\u001b[39;49m\u001b[43mctx_kwargs\u001b[49m\u001b[43m)\u001b[49m\n\u001b[0;32m    538\u001b[0m \u001b[38;5;28;01mreturn\u001b[39;00m \u001b[38;5;28mself\u001b[39m\u001b[38;5;241m.\u001b[39m\u001b[38;5;18m__class__\u001b[39m(magnitude, other)\n",
      "File \u001b[1;32mC:\\ProgramData\\miniforge3\\envs\\data_manipulation\\Lib\\site-packages\\pint\\facets\\plain\\quantity.py:480\u001b[0m, in \u001b[0;36mPlainQuantity._convert_magnitude_not_inplace\u001b[1;34m(self, other, *contexts, **ctx_kwargs)\u001b[0m\n\u001b[0;32m    477\u001b[0m     \u001b[38;5;28;01mwith\u001b[39;00m \u001b[38;5;28mself\u001b[39m\u001b[38;5;241m.\u001b[39m_REGISTRY\u001b[38;5;241m.\u001b[39mcontext(\u001b[38;5;241m*\u001b[39mcontexts, \u001b[38;5;241m*\u001b[39m\u001b[38;5;241m*\u001b[39mctx_kwargs):\n\u001b[0;32m    478\u001b[0m         \u001b[38;5;28;01mreturn\u001b[39;00m \u001b[38;5;28mself\u001b[39m\u001b[38;5;241m.\u001b[39m_REGISTRY\u001b[38;5;241m.\u001b[39mconvert(\u001b[38;5;28mself\u001b[39m\u001b[38;5;241m.\u001b[39m_magnitude, \u001b[38;5;28mself\u001b[39m\u001b[38;5;241m.\u001b[39m_units, other)\n\u001b[1;32m--> 480\u001b[0m \u001b[38;5;28;01mreturn\u001b[39;00m \u001b[38;5;28;43mself\u001b[39;49m\u001b[38;5;241;43m.\u001b[39;49m\u001b[43m_REGISTRY\u001b[49m\u001b[38;5;241;43m.\u001b[39;49m\u001b[43mconvert\u001b[49m\u001b[43m(\u001b[49m\u001b[38;5;28;43mself\u001b[39;49m\u001b[38;5;241;43m.\u001b[39;49m\u001b[43m_magnitude\u001b[49m\u001b[43m,\u001b[49m\u001b[43m \u001b[49m\u001b[38;5;28;43mself\u001b[39;49m\u001b[38;5;241;43m.\u001b[39;49m\u001b[43m_units\u001b[49m\u001b[43m,\u001b[49m\u001b[43m \u001b[49m\u001b[43mother\u001b[49m\u001b[43m)\u001b[49m\n",
      "File \u001b[1;32mC:\\ProgramData\\miniforge3\\envs\\data_manipulation\\Lib\\site-packages\\pint\\facets\\plain\\registry.py:1050\u001b[0m, in \u001b[0;36mGenericPlainRegistry.convert\u001b[1;34m(self, value, src, dst, inplace)\u001b[0m\n\u001b[0;32m   1047\u001b[0m \u001b[38;5;28;01mif\u001b[39;00m src \u001b[38;5;241m==\u001b[39m dst:\n\u001b[0;32m   1048\u001b[0m     \u001b[38;5;28;01mreturn\u001b[39;00m value\n\u001b[1;32m-> 1050\u001b[0m \u001b[38;5;28;01mreturn\u001b[39;00m \u001b[38;5;28;43mself\u001b[39;49m\u001b[38;5;241;43m.\u001b[39;49m\u001b[43m_convert\u001b[49m\u001b[43m(\u001b[49m\u001b[43mvalue\u001b[49m\u001b[43m,\u001b[49m\u001b[43m \u001b[49m\u001b[43msrc\u001b[49m\u001b[43m,\u001b[49m\u001b[43m \u001b[49m\u001b[43mdst\u001b[49m\u001b[43m,\u001b[49m\u001b[43m \u001b[49m\u001b[43minplace\u001b[49m\u001b[43m)\u001b[49m\n",
      "File \u001b[1;32mC:\\ProgramData\\miniforge3\\envs\\data_manipulation\\Lib\\site-packages\\pint\\facets\\context\\registry.py:405\u001b[0m, in \u001b[0;36mGenericContextRegistry._convert\u001b[1;34m(self, value, src, dst, inplace)\u001b[0m\n\u001b[0;32m    401\u001b[0m             src \u001b[38;5;241m=\u001b[39m \u001b[38;5;28mself\u001b[39m\u001b[38;5;241m.\u001b[39m_active_ctx\u001b[38;5;241m.\u001b[39mtransform(a, b, \u001b[38;5;28mself\u001b[39m, src)\n\u001b[0;32m    403\u001b[0m         value, src \u001b[38;5;241m=\u001b[39m src\u001b[38;5;241m.\u001b[39m_magnitude, src\u001b[38;5;241m.\u001b[39m_units\n\u001b[1;32m--> 405\u001b[0m \u001b[38;5;28;01mreturn\u001b[39;00m \u001b[38;5;28;43msuper\u001b[39;49m\u001b[43m(\u001b[49m\u001b[43m)\u001b[49m\u001b[38;5;241;43m.\u001b[39;49m\u001b[43m_convert\u001b[49m\u001b[43m(\u001b[49m\u001b[43mvalue\u001b[49m\u001b[43m,\u001b[49m\u001b[43m \u001b[49m\u001b[43msrc\u001b[49m\u001b[43m,\u001b[49m\u001b[43m \u001b[49m\u001b[43mdst\u001b[49m\u001b[43m,\u001b[49m\u001b[43m \u001b[49m\u001b[43minplace\u001b[49m\u001b[43m)\u001b[49m\n",
      "File \u001b[1;32mC:\\ProgramData\\miniforge3\\envs\\data_manipulation\\Lib\\site-packages\\pint\\facets\\nonmultiplicative\\registry.py:259\u001b[0m, in \u001b[0;36mGenericNonMultiplicativeRegistry._convert\u001b[1;34m(self, value, src, dst, inplace)\u001b[0m\n\u001b[0;32m    257\u001b[0m \u001b[38;5;66;03m# convert if no offset units are present\u001b[39;00m\n\u001b[0;32m    258\u001b[0m \u001b[38;5;28;01mif\u001b[39;00m \u001b[38;5;129;01mnot\u001b[39;00m (src_offset_unit \u001b[38;5;129;01mor\u001b[39;00m dst_offset_unit):\n\u001b[1;32m--> 259\u001b[0m     \u001b[38;5;28;01mreturn\u001b[39;00m \u001b[38;5;28;43msuper\u001b[39;49m\u001b[43m(\u001b[49m\u001b[43m)\u001b[49m\u001b[38;5;241;43m.\u001b[39;49m\u001b[43m_convert\u001b[49m\u001b[43m(\u001b[49m\u001b[43mvalue\u001b[49m\u001b[43m,\u001b[49m\u001b[43m \u001b[49m\u001b[43msrc\u001b[49m\u001b[43m,\u001b[49m\u001b[43m \u001b[49m\u001b[43mdst\u001b[49m\u001b[43m,\u001b[49m\u001b[43m \u001b[49m\u001b[43minplace\u001b[49m\u001b[43m)\u001b[49m\n\u001b[0;32m    261\u001b[0m src_dim \u001b[38;5;241m=\u001b[39m \u001b[38;5;28mself\u001b[39m\u001b[38;5;241m.\u001b[39m_get_dimensionality(src)\n\u001b[0;32m    262\u001b[0m dst_dim \u001b[38;5;241m=\u001b[39m \u001b[38;5;28mself\u001b[39m\u001b[38;5;241m.\u001b[39m_get_dimensionality(dst)\n",
      "File \u001b[1;32mC:\\ProgramData\\miniforge3\\envs\\data_manipulation\\Lib\\site-packages\\pint\\facets\\plain\\registry.py:1085\u001b[0m, in \u001b[0;36mGenericPlainRegistry._convert\u001b[1;34m(self, value, src, dst, inplace, check_dimensionality)\u001b[0m\n\u001b[0;32m   1082\u001b[0m factor \u001b[38;5;241m=\u001b[39m \u001b[38;5;28mself\u001b[39m\u001b[38;5;241m.\u001b[39m_get_conversion_factor(src, dst)\n\u001b[0;32m   1084\u001b[0m \u001b[38;5;28;01mif\u001b[39;00m \u001b[38;5;28misinstance\u001b[39m(factor, DimensionalityError):\n\u001b[1;32m-> 1085\u001b[0m     \u001b[38;5;28;01mraise\u001b[39;00m factor\n\u001b[0;32m   1087\u001b[0m \u001b[38;5;66;03m# factor is type float and if our magnitude is type Decimal then\u001b[39;00m\n\u001b[0;32m   1088\u001b[0m \u001b[38;5;66;03m# must first convert to Decimal before we can '*' the values\u001b[39;00m\n\u001b[0;32m   1089\u001b[0m \u001b[38;5;28;01mif\u001b[39;00m \u001b[38;5;28misinstance\u001b[39m(value, Decimal):\n",
      "\u001b[1;31mDimensionalityError\u001b[0m: Cannot convert from 'dimensionless' (dimensionless) to 'meter' ([length])"
     ]
    }
   ],
   "source": [
    "print((dwa_m + dwa_mm_dimensionless).quantities[0])"
   ]
  },
  {
   "cell_type": "code",
   "execution_count": 8,
   "id": "efad01d9-3b0b-4ce1-accd-7fce9ba1e686",
   "metadata": {},
   "outputs": [],
   "source": [
    "# you can play around:\n",
    "\n"
   ]
  },
  {
   "cell_type": "code",
   "execution_count": 9,
   "id": "493c8cde-64a9-4f59-a7b8-79075a4c33cf",
   "metadata": {},
   "outputs": [
    {
     "name": "stdout",
     "output_type": "stream",
     "text": [
      "Axis: <label: time> - <units: fs> - <index: 0>\n",
      "fs\n",
      "None\n",
      "-133.42563807926084 fs\n",
      "0.26085168734948355 fs\n"
     ]
    }
   ],
   "source": [
    "\n",
    "time_axis = Axis('time', data=np.linspace(-Nperiod/2 * T0, Nperiod/2 * T0, Nt))\n",
    "print(time_axis)\n",
    "print(time_axis.units)\n",
    "print(time_axis.data)\n",
    "print(time_axis.offset)\n",
    "print(time_axis.scaling)"
   ]
  },
  {
   "cell_type": "code",
   "execution_count": 10,
   "id": "263dd97f-0e3a-4c89-bee4-8bf36911aca7",
   "metadata": {},
   "outputs": [
    {
     "data": {
      "text/html": [
       "<table><tbody><tr><th>Magnitude</th><td style='text-align:left;'><pre>[-133.42563807926084 -133.16478639191135 -132.90393470456186 ... 132.90393470456186 133.16478639191135 133.42563807926084]</pre></td></tr><tr><th>Units</th><td style='text-align:left;'>fs</td></tr></tbody></table>"
      ],
      "text/latex": [
       "$\\begin{pmatrix} &  &  &  &  &  &  &  &  &  &  &  &  &  &  &  &  &  &  &  &  &  &  &  &  &  &  &  &  &  &  &  &  &  &  &  &  &  &  &  &  &  &  &  &  &  &  &  &  &  &  &  &  &  &  &  &  &  &  &  &  &  &  &  &  &  &  &  &  &  &  &  &  &  &  &  &  &  &  &  &  &  &  &  &  &  &  &  &  &  &  &  &  &  &  &  &  &  &  &  &  &  &  &  &  &  &  &  &  &  &  &  &  &  &  &  &  &  &  &  &  &  &  &  &  &  &  &  &  &  &  &  &  &  &  &  &  &  &  &  &  &  &  &  &  &  &  &  &  &  &  &  &  &  &  &  &  &  &  &  &  &  &  &  &  &  &  &  &  &  &  &  &  &  &  &  &  &  &  &  &  &  &  &  &  &  &  &  &  &  &  &  &  &  &  &  &  &  &  &  &  &  &  &  &  &  &  &  &  &  &  &  &  &  &  &  &  &  &  &  &  &  &  &  &  &  &  &  &  &  &  &  &  &  &  &  &  &  &  &  &  &  &  &  &  &  &  &  &  &  &  &  &  &  &  &  &  &  &  &  &  &  &  &  &  &  &  &  &  &  &  &  &  &  &  &  &  &  &  &  &  &  &  &  &  &  &  &  &  &  &  &  &  &  &  &  &  &  &  &  &  &  &  &  &  &  &  &  &  &  &  &  &  &  &  &  &  &  &  &  &  &  &  &  &  &  &  &  &  &  &  &  &  &  &  &  &  &  &  &  &  &  &  &  &  &  &  &  &  &  &  &  &  &  &  &  &  &  &  &  &  &  &  &  &  &  &  &  &  &  &  &  &  &  &  &  &  &  &  &  &  &  &  &  &  &  &  &  &  &  &  &  &  &  &  &  &  &  &  &  &  &  &  &  &  &  &  &  &  &  &  &  &  &  &  &  &  &  &  &  &  &  &  &  &  &  &  &  &  &  &  &  &  &  &  &  &  &  &  &  &  &  &  &  &  &  &  &  &  &  &  &  &  &  &  &  &  &  &  &  &  &  &  &  &  &  &  &  &  &  &  &  &  &  &  &  &  &  &  &  &  &  &  &  &  &  &  &  &  &  &  &  &  &  &  &  &  &  &  &  &  &  &  &  &  &  &  &  &  &  &  &  &  &  &  &  &  &  &  &  &  &  &  &  &  &  &  &  &  &  &  &  &  &  &  &  &  &  &  &  &  &  &  &  &  &  &  &  &  &  &  &  &  &  &  &  &  &  &  &  &  &  &  &  &  &  &  &  &  &  &  &  &  &  &  &  &  &  &  &  &  &  &  &  &  &  &  &  &  &  &  &  &  &  &  &  &  &  &  &  &  &  &  &  &  &  &  &  &  &  &  &  &  &  &  &  &  &  &  &  &  &  &  &  &  &  &  &  &  &  &  &  &  &  &  &  &  &  &  &  &  &  &  &  &  &  &  &  &  &  &  &  &  &  &  &  &  &  &  &  &  &  &  &  &  &  &  &  &  &  &  &  &  &  &  &  &  &  &  &  &  &  &  &  &  &  &  &  &  &  &  &  &  &  &  &  &  &  &  &  &  &  &  &  &  &  &  &  &  &  &  &  &  &  &  &  &  &  &  &  &  &  &  &  &  &  &  &  &  &  &  &  &  &  &  &  &  &  &  &  &  &  &  &  &  &  &  &  &  &  &  &  &  &  &  &  &  &  &  &  &  &  &  &  &  &  &  &  &  &  &  &  &  &  &  &  &  &  &  &  &  &  &  &  &  &  &  &  &  &  &  &  &  &  &  &  &  &  &  &  &  &  &  &  &  &  &  &  &  &  &  &  &  &  &  &  &  &  &  &  &  &  &  &  &  &  &  &  &  &  &  &  &  &  &  &  &  &  &  &  &  &  &  &  &  &  &  &  &  &  &  &  &  &  &  &  &  &  &  &  &  &  &  &  &  &  &  &  &  &  &  &  &  &  &  &  &  &  &  &  &  &  &  &  &  &  &  &  &  &  &  &  &  &  &  &  &  &  &  &  &  &  &  &  &  &  &  &  &  &  &  &  &  &  &  &  &  &  &  &  &  &  &  &  &  &  &  &  &  &  &  &  &  &  &  &  &  &  &  &  &  &  &  &  &  &  &  &  &  &  &  &  &  &  &  &  &  &  &  &  &  &  &  &  &  &  &  &  &  &  &  &  &  &  &  &  &  &  &  &  &  &  &  &  &  &  &  &  &  &  &  &  &  &  &  &  &  &  &  &  &  &  &  &  &  &  &  &  &  &  &  &  &  &  &  &  &  &  &  &  &  &  &  & \\end{pmatrix}\\ \\mathrm{fs}$"
      ],
      "text/plain": [
       "<Quantity([-133.42563808 -133.16478639 -132.9039347  ...  132.9039347   133.16478639\n",
       "  133.42563808], 'femtosecond')>"
      ]
     },
     "execution_count": 10,
     "metadata": {},
     "output_type": "execute_result"
    }
   ],
   "source": [
    "time_axis.get_data()"
   ]
  },
  {
   "cell_type": "code",
   "execution_count": 11,
   "id": "53c2d4c0-fd7d-4ffa-a0ef-ab983e263486",
   "metadata": {},
   "outputs": [
    {
     "data": {
      "text/plain": [
       "<DataRaw: time <u: fs> <len:1> (|1024)>"
      ]
     },
     "execution_count": 11,
     "metadata": {},
     "output_type": "execute_result"
    }
   ],
   "source": [
    "time_axis.as_dwa()"
   ]
  },
  {
   "cell_type": "code",
   "execution_count": 12,
   "id": "9655d298-2920-4936-a9c8-829902ec0b65",
   "metadata": {},
   "outputs": [
    {
     "data": {
      "text/plain": [
       "<pymodaq_gui.plotting.data_viewers.viewer1D.Viewer1D at 0x1782f568430>"
      ]
     },
     "execution_count": 12,
     "metadata": {},
     "output_type": "execute_result"
    }
   ],
   "source": [
    "time_axis.as_dwa().plot('qt')"
   ]
  },
  {
   "cell_type": "code",
   "execution_count": 13,
   "id": "e4e0fa2b-c2b3-4ec4-9645-c23f37167f78",
   "metadata": {},
   "outputs": [
    {
     "data": {
      "image/png": "[encoded data removed]",
      "text/plain": [
       "<Figure size 640x480 with 1 Axes>"
      ]
     },
     "execution_count": 13,
     "metadata": {},
     "output_type": "execute_result"
    },
    {
     "data": {
      "image/png": "[encoded data removed]",
      "text/plain": [
       "<Figure size 640x480 with 1 Axes>"
      ]
     },
     "metadata": {},
     "output_type": "display_data"
    }
   ],
   "source": [
    "time_axis.as_dwa().plot('matplotlib')"
   ]
  },
  {
   "cell_type": "markdown",
   "id": "5ca51be3-ab43-4993-93aa-0256ce568706",
   "metadata": {},
   "source": [
    "Let's introduce now the description of a pulse having a quadratic phase:\n",
    "\n",
    "![chirp_pulse](simulation_data/quadratic_phase.png)"
   ]
  },
  {
   "cell_type": "code",
   "execution_count": 14,
   "id": "e1718009-2180-4527-8d41-7119b91fb5c9",
   "metadata": {},
   "outputs": [
    {
     "name": "stdout",
     "output_type": "stream",
     "text": [
      "dtc: 18.027756377319946 fs\n"
     ]
    }
   ],
   "source": [
    "dt0 = Q_(10, 'fs')  # FT limited duration with dt0dw=1/2\n",
    "domega = 1/( 2* dt0)\n",
    "phi2 = Q_(300, 'fs**2')  # quadratic phase\n",
    "\n",
    "dtc = dt0 * np.sqrt(1 + phi2**2/(4*dt0**4))  # quadratic phase impact on the final pulse duration\n",
    "print(f'dtc: {dtc}')"
   ]
  },
  {
   "cell_type": "code",
   "execution_count": 15,
   "id": "be28048e-8bcc-46fd-b3d7-64e8969d9b55",
   "metadata": {},
   "outputs": [],
   "source": [
    "# let's define the laser pulse in the spectral domain\n",
    "from pymodaq_utils import math_utils as mutils\n",
    "omega_grid, time_grid = mutils.ftAxis_time(Nt, Nperiod * T0)"
   ]
  },
  {
   "cell_type": "code",
   "execution_count": 16,
   "id": "92d01bd5-3e9d-4741-93ad-ec205a55f22a",
   "metadata": {},
   "outputs": [
    {
     "data": {
      "text/html": [
       "<table><tbody><tr><th>Magnitude</th><td style='text-align:left;'><pre>[-12.043597208480978 -12.020051563889618 -11.996505919298256 ... 11.996505919298258 12.02005156388962 12.043597208480978]</pre></td></tr><tr><th>Units</th><td style='text-align:left;'>1/fs</td></tr></tbody></table>"
      ],
      "text/latex": [
       "$\\begin{pmatrix} &  &  &  &  &  &  &  &  &  &  &  &  &  &  &  &  &  &  &  &  &  &  &  &  &  &  &  &  &  &  &  &  &  &  &  &  &  &  &  &  &  &  &  &  &  &  &  &  &  &  &  &  &  &  &  &  &  &  &  &  &  &  &  &  &  &  &  &  &  &  &  &  &  &  &  &  &  &  &  &  &  &  &  &  &  &  &  &  &  &  &  &  &  &  &  &  &  &  &  &  &  &  &  &  &  &  &  &  &  &  &  &  &  &  &  &  &  &  &  &  &  &  &  &  &  &  &  &  &  &  &  &  &  &  &  &  &  &  &  &  &  &  &  &  &  &  &  &  &  &  &  &  &  &  &  &  &  &  &  &  &  &  &  &  &  &  &  &  &  &  &  &  &  &  &  &  &  &  &  &  &  &  &  &  &  &  &  &  &  &  &  &  &  &  &  &  &  &  &  &  &  &  &  &  &  &  &  &  &  &  &  &  &  &  &  &  &  &  &  &  &  &  &  &  &  &  &  &  &  &  &  &  &  &  &  &  &  &  &  &  &  &  &  &  &  &  &  &  &  &  &  &  &  &  &  &  &  &  &  &  &  &  &  &  &  &  &  &  &  &  &  &  &  &  &  &  &  &  &  &  &  &  &  &  &  &  &  &  &  &  &  &  &  &  &  &  &  &  &  &  &  &  &  &  &  &  &  &  &  &  &  &  &  &  &  &  &  &  &  &  &  &  &  &  &  &  &  &  &  &  &  &  &  &  &  &  &  &  &  &  &  &  &  &  &  &  &  &  &  &  &  &  &  &  &  &  &  &  &  &  &  &  &  &  &  &  &  &  &  &  &  &  &  &  &  &  &  &  &  &  &  &  &  &  &  &  &  &  &  &  &  &  &  &  &  &  &  &  &  &  &  &  &  &  &  &  &  &  &  &  &  &  &  &  &  &  &  &  &  &  &  &  &  &  &  &  &  &  &  &  &  &  &  &  &  &  &  &  &  &  &  &  &  &  &  &  &  &  &  &  &  &  &  &  &  &  &  &  &  &  &  &  &  &  &  &  &  &  &  &  &  &  &  &  &  &  &  &  &  &  &  &  &  &  &  &  &  &  &  &  &  &  &  &  &  &  &  &  &  &  &  &  &  &  &  &  &  &  &  &  &  &  &  &  &  &  &  &  &  &  &  &  &  &  &  &  &  &  &  &  &  &  &  &  &  &  &  &  &  &  &  &  &  &  &  &  &  &  &  &  &  &  &  &  &  &  &  &  &  &  &  &  &  &  &  &  &  &  &  &  &  &  &  &  &  &  &  &  &  &  &  &  &  &  &  &  &  &  &  &  &  &  &  &  &  &  &  &  &  &  &  &  &  &  &  &  &  &  &  &  &  &  &  &  &  &  &  &  &  &  &  &  &  &  &  &  &  &  &  &  &  &  &  &  &  &  &  &  &  &  &  &  &  &  &  &  &  &  &  &  &  &  &  &  &  &  &  &  &  &  &  &  &  &  &  &  &  &  &  &  &  &  &  &  &  &  &  &  &  &  &  &  &  &  &  &  &  &  &  &  &  &  &  &  &  &  &  &  &  &  &  &  &  &  &  &  &  &  &  &  &  &  &  &  &  &  &  &  &  &  &  &  &  &  &  &  &  &  &  &  &  &  &  &  &  &  &  &  &  &  &  &  &  &  &  &  &  &  &  &  &  &  &  &  &  &  &  &  &  &  &  &  &  &  &  &  &  &  &  &  &  &  &  &  &  &  &  &  &  &  &  &  &  &  &  &  &  &  &  &  &  &  &  &  &  &  &  &  &  &  &  &  &  &  &  &  &  &  &  &  &  &  &  &  &  &  &  &  &  &  &  &  &  &  &  &  &  &  &  &  &  &  &  &  &  &  &  &  &  &  &  &  &  &  &  &  &  &  &  &  &  &  &  &  &  &  &  &  &  &  &  &  &  &  &  &  &  &  &  &  &  &  &  &  &  &  &  &  &  &  &  &  &  &  &  &  &  &  &  &  &  &  &  &  &  &  &  &  &  &  &  &  &  &  &  &  &  &  &  &  &  &  &  &  &  &  &  &  &  &  &  &  &  &  &  &  &  &  &  &  &  &  &  &  &  &  &  &  &  &  &  &  &  &  &  &  &  &  &  &  &  &  &  &  &  &  &  &  &  &  &  &  &  &  &  &  &  &  &  &  &  &  &  &  &  &  &  &  &  &  &  &  &  &  &  &  &  &  &  &  &  &  &  &  &  &  &  &  &  &  &  &  &  &  &  &  &  &  &  &  &  &  &  &  &  &  &  &  &  &  &  &  & \\end{pmatrix}\\ \\frac{1}{\\mathrm{fs}}$"
      ],
      "text/plain": [
       "<Quantity([-12.04359721 -12.02005156 -11.99650592 ...  11.99650592  12.02005156\n",
       "  12.04359721], '1 / femtosecond')>"
      ]
     },
     "execution_count": 16,
     "metadata": {},
     "output_type": "execute_result"
    }
   ],
   "source": [
    "omega_grid\n"
   ]
  },
  {
   "cell_type": "code",
   "execution_count": null,
   "id": "49f774e4-e289-40c8-9dcd-9883c979bcfa",
   "metadata": {},
   "outputs": [],
   "source": [
    "time_axis = Axis(...) #fill in from the time_grid quantity\n",
    "omega_axis = Axis(...) # fill in from the omega_grid quantity"
   ]
  },
  {
   "cell_type": "code",
   "execution_count": 17,
   "id": "75baf05c-9ed4-4ac3-ad0e-c42424da6556",
   "metadata": {},
   "outputs": [],
   "source": [
    "# let's define the laser pulse in the spectral domain\n",
    "from pymodaq_utils import math_utils as mutils\n",
    "omega_grid, time_grid = mutils.ftAxis_time(Nt, Nperiod * T0)\n",
    "\n",
    "time_axis = Axis('time', units=str(time_grid.units), data=time_grid.magnitude) #fill in from the time_grid quantity\n",
    "omega_axis = Axis.from_quantity(omega_grid, 'omega') # fill in from the omega_grid quantity\n",
    "\n"
   ]
  },
  {
   "cell_type": "code",
   "execution_count": 18,
   "id": "cbe2709d-adce-455e-868d-a622cc5b2e40",
   "metadata": {},
   "outputs": [
    {
     "name": "stdout",
     "output_type": "stream",
     "text": [
      "Axis: <label: omega> - <units: 1 / fs> - <index: 0>\n",
      "Axis: <label: time> - <units: fs> - <index: 0>\n"
     ]
    }
   ],
   "source": [
    "print(omega_axis) #angular frequency should be expressed in rad/s\n",
    "print(time_axis)"
   ]
  },
  {
   "cell_type": "code",
   "execution_count": 27,
   "id": "817f576a-df69-4471-a177-1b6673bf61e1",
   "metadata": {},
   "outputs": [],
   "source": [
    "viewer1D = omega_axis.as_dwa(True).plot('qt')"
   ]
  },
  {
   "cell_type": "code",
   "execution_count": null,
   "id": "77406fe7-7596-433f-906b-c1d358ac5cc1",
   "metadata": {},
   "outputs": [],
   "source": [
    "omega_axis = Axis('omega', units=f'rad*{str(omega_grid.units)}', data=omega_grid.magnitude).to_reduced_units()"
   ]
  },
  {
   "cell_type": "code",
   "execution_count": null,
   "id": "35129a8f-867c-4583-b111-1e7ef95cec51",
   "metadata": {},
   "outputs": [],
   "source": [
    "print(omega_axis) #angular frequency should be expressed in rad/s\n",
    "print(time_axis)"
   ]
  },
  {
   "cell_type": "code",
   "execution_count": 28,
   "id": "f04de2bc-6715-495d-ba03-c0f31fdb266f",
   "metadata": {},
   "outputs": [],
   "source": [
    "viewer1D.show_data(time_axis.as_dwa())"
   ]
  },
  {
   "cell_type": "code",
   "execution_count": 29,
   "id": "c2cc12bd-b097-40d5-858b-f38e9003c6ef",
   "metadata": {},
   "outputs": [
    {
     "data": {
      "text/plain": [
       "<pymodaq_gui.plotting.data_viewers.viewer1D.Viewer1D at 0x1782f949630>"
      ]
     },
     "execution_count": 29,
     "metadata": {},
     "output_type": "execute_result"
    }
   ],
   "source": [
    "# let's now define our pulse in the spectral domain:\n",
    "\n",
    "dwa_field_omega = np.exp(-(omega_axis.as_dwa(True) - omega0)**2 / (4 * domega**2)) * np.exp(1j * phi2 / 2 * (omega_axis.as_dwa(True) - omega0)**2)\n",
    "dwa_field_omega.real().plot('qt')\n",
    "\n",
    "#several issues: omega is an Axis object, no proper labels and dwa_field is complex?"
   ]
  },
  {
   "cell_type": "code",
   "execution_count": 30,
   "id": "8ae7cd71-262a-433f-a3ba-0b94b2cd7175",
   "metadata": {},
   "outputs": [
    {
     "data": {
      "text/plain": [
       "<pymodaq_gui.plotting.data_viewers.viewer1D.Viewer1D at 0x1783220cd30>"
      ]
     },
     "execution_count": 30,
     "metadata": {},
     "output_type": "execute_result"
    }
   ],
   "source": [
    "np.real(dwa_field_omega).plot('qt')"
   ]
  },
  {
   "cell_type": "code",
   "execution_count": 31,
   "id": "1103649d-62b3-41ff-946d-fa6a4737b218",
   "metadata": {},
   "outputs": [
    {
     "data": {
      "text/plain": [
       "<pymodaq_gui.plotting.data_viewers.viewer1D.Viewer1D at 0x1782f8b5bd0>"
      ]
     },
     "execution_count": 31,
     "metadata": {},
     "output_type": "execute_result"
    }
   ],
   "source": [
    "# let's now define our pulse in the spectral domain:\n",
    "dwa_field_omega = np.exp(-(omega_axis.as_dwa(True) - omega0)**2 / (4 * domega**2)) * np.exp(1j * phi2 / 2 * (omega_axis.as_dwa(True) - omega0)**2)\n",
    "dwa_field_omega.labels = ['spectral field']\n",
    "dwa_field_omega.abs().plot('qt')\n",
    "\n",
    "#several issues? omega is an Axis object and dwa_field is complex?"
   ]
  },
  {
   "cell_type": "code",
   "execution_count": 32,
   "id": "02c10c80-a4c3-48c6-879f-b7dee8812ded",
   "metadata": {},
   "outputs": [
    {
     "data": {
      "text/plain": [
       "<pymodaq_gui.plotting.data_viewers.viewer1D.Viewer1D at 0x1782f8dd630>"
      ]
     },
     "execution_count": 32,
     "metadata": {},
     "output_type": "execute_result"
    }
   ],
   "source": [
    "# let's calculate the temporal field\n",
    "\n",
    "dwa_field_time = dwa_field_omega.ift()\n",
    "dwa_field_time.real().plot(\"qt\")"
   ]
  },
  {
   "cell_type": "code",
   "execution_count": 33,
   "id": "f472b59d-d8a9-40e2-a200-24fd3cca3956",
   "metadata": {},
   "outputs": [
    {
     "data": {
      "text/plain": [
       "<pymodaq_gui.plotting.data_viewers.viewer.ViewerDispatcher at 0x1782ef9a9d0>"
      ]
     },
     "execution_count": 33,
     "metadata": {},
     "output_type": "execute_result"
    }
   ],
   "source": [
    "from pymodaq_data.data import DataToExport\n",
    "dte = DataToExport('bundled', data=[time_axis.as_dwa(), omega_axis.as_dwa()])\n",
    "dte.plot('qt')"
   ]
  },
  {
   "cell_type": "code",
   "execution_count": 34,
   "id": "426cd1b8-7364-46dd-8c01-bd4cdd3e60f4",
   "metadata": {},
   "outputs": [
    {
     "data": {
      "text/plain": [
       "<pymodaq_gui.plotting.data_viewers.viewer1D.Viewer1D at 0x178322a2710>"
      ]
     },
     "execution_count": 34,
     "metadata": {},
     "output_type": "execute_result"
    }
   ],
   "source": [
    "# let's calculate the temporal field\n",
    "\n",
    "dwa_field_time = dwa_field_omega.ift(axis_label='time', axis_units='fs', labels=['temporal field'])\n",
    "dwa_field_time.real().plot(\"qt\")"
   ]
  },
  {
   "cell_type": "markdown",
   "id": "9cda4c98-7728-4b94-b526-fe2964b3c4a8",
   "metadata": {},
   "source": [
    "We have calculated the field with a zero quadratic phase, try now to run back the code with some other value for phi2: 100fs^2, 1000fs^2 ... what's happening?"
   ]
  },
  {
   "cell_type": "code",
   "execution_count": 36,
   "id": "107cd1bc-5feb-4ac3-b4f1-d918a777a973",
   "metadata": {},
   "outputs": [],
   "source": [
    "# ploting on separated viewers\n",
    "from pymodaq_data.data import DataToExport, DataDim\n",
    "\n",
    "dte_pulses = DataToExport('pulses', data=[dwa_field_omega.abs(),dwa_field_omega.angle(), dwa_field_time.real()], labels=['omega', 'time'])\n",
    "viewer_dispatch = dte_pulses.plot('qt')"
   ]
  },
  {
   "cell_type": "code",
   "execution_count": null,
   "id": "12a9f369-b1a3-4a5d-83ef-016c29fccf3c",
   "metadata": {},
   "outputs": [],
   "source": [
    "(slice(1.9970066962354072, 2.724614297913137, None),)"
   ]
  },
  {
   "cell_type": "markdown",
   "id": "d18f5959-465e-46c3-92d0-8ffcb7e3660e",
   "metadata": {},
   "source": [
    "It's nice but difficult to see the area where the phase is defined let's extract this out of our data, using ROI and slice\n",
    "\n",
    "![dispatcher](simulation_data/viewer_dispatch_clipboard.png)"
   ]
  },
  {
   "cell_type": "code",
   "execution_count": 37,
   "id": "080acc0e-7fa0-48c2-b3d6-c882562e8789",
   "metadata": {},
   "outputs": [
    {
     "ename": "NameError",
     "evalue": "name 'dwa_omega_sliced' is not defined",
     "output_type": "error",
     "traceback": [
      "\u001b[1;31m---------------------------------------------------------------------------\u001b[0m",
      "\u001b[1;31mNameError\u001b[0m                                 Traceback (most recent call last)",
      "Cell \u001b[1;32mIn[37], line 3\u001b[0m\n\u001b[0;32m      1\u001b[0m (\u001b[38;5;28mslice\u001b[39m(\u001b[38;5;241m1.8443394613904172\u001b[39m, \u001b[38;5;241m2.824921311314552\u001b[39m, \u001b[38;5;28;01mNone\u001b[39;00m),)  \u001b[38;5;66;03m#these are coordinates on the axis not index!!!\u001b[39;00m\n\u001b[1;32m----> 3\u001b[0m \u001b[43mdwa_omega_sliced\u001b[49m\u001b[38;5;241m.\u001b[39misig[(\u001b[38;5;28mslice\u001b[39m(\u001b[38;5;241m-\u001b[39m\u001b[38;5;241m49.45596754790016\u001b[39m, \u001b[38;5;241m49.45596754790017\u001b[39m, \u001b[38;5;28;01mNone\u001b[39;00m),)]\n\u001b[0;32m      4\u001b[0m dwa_omega_sliced\u001b[38;5;241m.\u001b[39minav[(\u001b[38;5;28mslice\u001b[39m(\u001b[38;5;241m-\u001b[39m\u001b[38;5;241m49.45596754790016\u001b[39m, \u001b[38;5;241m49.45596754790017\u001b[39m, \u001b[38;5;28;01mNone\u001b[39;00m),)]\n\u001b[0;32m      5\u001b[0m dwa_omega_sliced\u001b[38;5;241m.\u001b[39mvsig[(\u001b[38;5;28mslice\u001b[39m(\u001b[38;5;241m-\u001b[39m\u001b[38;5;241m49.45596754790016\u001b[39m, \u001b[38;5;241m49.45596754790017\u001b[39m, \u001b[38;5;28;01mNone\u001b[39;00m),)]\n",
      "\u001b[1;31mNameError\u001b[0m: name 'dwa_omega_sliced' is not defined"
     ]
    }
   ],
   "source": [
    "(slice(1.8443394613904172, 2.824921311314552, None),)  #these are coordinates on the axis not index!!!\n",
    "\n",
    "dwa_omega_sliced.isig[(slice(-49.45596754790016, 49.45596754790017, None),)]\n",
    "dwa_omega_sliced.inav[(slice(-49.45596754790016, 49.45596754790017, None),)]\n",
    "dwa_omega_sliced.vsig[(slice(-49.45596754790016, 49.45596754790017, None),)]\n",
    "dwa_omega_sliced.vnav[(slice(-49.45596754790016, 49.45596754790017, None),)]\n",
    "(slice(-49.45596754790016, 49.45596754790017, None),)"
   ]
  },
  {
   "cell_type": "code",
   "execution_count": 39,
   "id": "87461237-bc45-4979-8745-5a324c6f94e4",
   "metadata": {},
   "outputs": [
    {
     "data": {
      "text/plain": [
       "<pymodaq_gui.plotting.data_viewers.viewer.ViewerDispatcher at 0x1783a4de750>"
      ]
     },
     "execution_count": 39,
     "metadata": {},
     "output_type": "execute_result"
    }
   ],
   "source": [
    "dwa_omega_sliced = dwa_field_omega.vsig[(slice(1.8443394613904172, 2.824921311314552, None),)]\n",
    "\n",
    "dte_pulses = DataToExport('pulses', data=[dwa_omega_sliced.abs(),dwa_omega_sliced.angle().unwrap(), dwa_field_time.real()], labels=['omega', 'time'])\n",
    "dte_pulses.plot('qt')\n"
   ]
  },
  {
   "cell_type": "markdown",
   "id": "b58ca0b9-83ca-4c88-80e1-cec9d0f53321",
   "metadata": {},
   "source": [
    "## Now let's try to fit the temporal pulse and retrieve the chirped duration"
   ]
  },
  {
   "cell_type": "code",
   "execution_count": 40,
   "id": "dab2919e-3467-44f0-9775-0da2f754d913",
   "metadata": {},
   "outputs": [
    {
     "data": {
      "text/plain": [
       "4.336808689942018e-19"
      ]
     },
     "execution_count": 40,
     "metadata": {},
     "output_type": "execute_result"
    }
   ],
   "source": [
    "mini = np.min(dwa_field_time.abs())\n",
    "mini.value()"
   ]
  },
  {
   "cell_type": "code",
   "execution_count": 41,
   "id": "8bb62b89-9daf-41fd-a98a-20c53559fb4a",
   "metadata": {},
   "outputs": [
    {
     "name": "stdout",
     "output_type": "stream",
     "text": [
      "[array([-5.39463142e-12,  5.47511891e-03,  1.30298475e-01,  1.80277564e+01])]\n",
      "dtc fit: 18.027756402519874 fs\n",
      "dtc theory: 18.027756377319946 fs\n"
     ]
    }
   ],
   "source": [
    "from pymodaq_utils import math_utils as mutils\n",
    "\n",
    "def gaussian_fit(time, offset, amp, t0, dt):\n",
    "    return offset + amp * np.exp(-(time - t0)**2 / (4*dt**2))\n",
    "\n",
    "t0_ini, dt_ini = dwa_field_time.abs().moment()\n",
    "\n",
    "dwa_fit = dwa_field_time.abs().fit(gaussian_fit, initial_guess=[np.min(dwa_field_time.abs()).value(),\n",
    "                                                                np.max(dwa_field_time).value()-np.min(dwa_field_time).value(),\n",
    "                                                                t0_ini.value(),\n",
    "                                                                dt_ini.value()])\n",
    "print(dwa_fit.fit_coeffs)\n",
    "dwa_comparison = DataRaw('fit', data=[dwa_field_time.abs()[0], dwa_fit[0]+0.001],\n",
    "                        axes=dwa_field_time.axes,\n",
    "                        labels=['simul', 'fit'])\n",
    "dwa_comparison.plot('qt')\n",
    "\n",
    "print(f'dtc fit: {dwa_fit.fit_coeffs[0][3]} fs')\n",
    "print(f'dtc theory: {dtc}')"
   ]
  },
  {
   "cell_type": "code",
   "execution_count": 42,
   "id": "f196cbb7-a88f-4e67-9f5c-de21bd03d505",
   "metadata": {},
   "outputs": [],
   "source": [
    "from pymodaq_data.h5modules.data_saving import H5SaverLowLevel, DataToExportSaver\n",
    "dwa_spectrum = DataRaw('spectral', data=[(dwa_omega_sliced.abs()**2)[0], dwa_omega_sliced.angle().unwrap()[0]],\n",
    "                       axes=dwa_omega_sliced.axes, labels=['intensity', 'phase'])\n",
    "dte_to_save = DataToExport('tobesaved', data=[dwa_spectrum, dwa_fit, dwa_field_time.real()])\n",
    "\n",
    "with DataToExportSaver('ft_pulses2.hdf5') as dte_saver:\n",
    "    dte_saver.add_data('/', dte_to_save)"
   ]
  },
  {
   "cell_type": "markdown",
   "id": "323cf0e2-3d24-4e5b-aebe-3cec55af2b9c",
   "metadata": {},
   "source": [
    "Ok let's have a look at this with the h5browser!"
   ]
  },
  {
   "cell_type": "markdown",
   "id": "ae1ab332-8b20-4fb4-832b-7cd162c69edb",
   "metadata": {},
   "source": [
    "and let's open the file here now:"
   ]
  },
  {
   "cell_type": "code",
   "execution_count": 44,
   "id": "a3ead5f1-4a61-4e02-9909-7170cc5af474",
   "metadata": {},
   "outputs": [
    {
     "data": {
      "text/plain": [
       "<pymodaq_gui.plotting.data_viewers.viewer1D.Viewer1D at 0x1783dc35c60>"
      ]
     },
     "execution_count": 44,
     "metadata": {},
     "output_type": "execute_result"
    }
   ],
   "source": [
    "from pymodaq_data.h5modules.data_saving import DataLoader\n",
    "\n",
    "with DataLoader('ft_pulses2.hdf5') as dwa_loader:\n",
    "    dwa = dwa_loader.load_data('/Data1D/CH00/Data00')\n",
    "dwa.plot('qt')"
   ]
  },
  {
   "cell_type": "markdown",
   "id": "376ba0b4-f0ef-4745-bc64-0be883981c2f",
   "metadata": {},
   "source": [
    "but if you don't know what data to load:"
   ]
  },
  {
   "cell_type": "code",
   "execution_count": 45,
   "id": "3c835d53-1e10-4875-b30b-225224b9a8d9",
   "metadata": {},
   "outputs": [
    {
     "name": "stdout",
     "output_type": "stream",
     "text": [
      "/ (GROUP) 'PyMoDAQ file'\n",
      "/Data1D (GROUP) ''\n",
      "/RawData (GROUP) 'Data from PyMoDAQ modules'\n",
      "/Data1D/CH00 (GROUP) 'omega_subtract_power_negative_divide_exp_multiply_absolute_fit'\n",
      "/Data1D/CH01 (GROUP) 'omega_subtract_power_negative_divide_exp_multiply_real'\n",
      "/Data1D/CH02 (GROUP) 'spectral'\n",
      "/RawData/Logger (VLARRAY) ''\n",
      "/Data1D/CH00/Axis00 (CARRAY) 'time'\n",
      "/Data1D/CH00/Axis01 (CARRAY) 'time'\n",
      "/Data1D/CH00/Data00 (CARRAY) 'omega_subtract_power_negative_divide_exp_multiply_absolute_fit'\n",
      "/Data1D/CH00/Data01 (CARRAY) 'omega_subtract_power_negative_divide_exp_multiply_absolute_fit'\n",
      "/Data1D/CH01/Axis00 (CARRAY) 'time'\n",
      "/Data1D/CH01/Axis01 (CARRAY) 'time'\n",
      "/Data1D/CH01/Data00 (CARRAY) 'omega_subtract_power_negative_divide_exp_multiply_real'\n",
      "/Data1D/CH01/Data01 (CARRAY) 'omega_subtract_power_negative_divide_exp_multiply_real'\n",
      "/Data1D/CH02/Axis00 (CARRAY) 'omega'\n",
      "/Data1D/CH02/Axis01 (CARRAY) 'omega'\n",
      "/Data1D/CH02/Data00 (CARRAY) 'spectral'\n",
      "/Data1D/CH02/Data01 (CARRAY) 'spectral'\n",
      "/Data1D/CH02/Data02 (CARRAY) 'spectral'\n",
      "/Data1D/CH02/Data03 (CARRAY) 'spectral'\n"
     ]
    }
   ],
   "source": [
    "loader = DataLoader('ft_pulses2.hdf5')\n",
    "\n",
    "for node in loader.walk_nodes('/'):\n",
    "    print(node)"
   ]
  },
  {
   "cell_type": "code",
   "execution_count": null,
   "id": "fe50db54-bea0-4a1d-b193-516e1527664d",
   "metadata": {},
   "outputs": [],
   "source": [
    "loader.load_data('/Data1D/CH02/Data00').plot('qt')"
   ]
  },
  {
   "cell_type": "code",
   "execution_count": null,
   "id": "2a6e2f30-5eb7-49dd-ad7b-bec492c98b73",
   "metadata": {},
   "outputs": [],
   "source": [
    "loader.close_file()"
   ]
  },
  {
   "cell_type": "markdown",
   "id": "45779fc2-8813-4fad-95f4-bed73a728550",
   "metadata": {},
   "source": [
    "Well that's it for this practical around using the Data Objects within pymodaq. Make sure to let me know if/when you use that in your data analysis!"
   ]
  },
  {
   "cell_type": "code",
   "execution_count": null,
   "id": "19a0e239-9609-4302-8b66-4a067543a401",
   "metadata": {},
   "outputs": [],
   "source": []
  },
  {
   "cell_type": "code",
   "execution_count": null,
   "id": "3a5e1a5d-a7ca-4620-bfc9-a09379d9b248",
   "metadata": {},
   "outputs": [],
   "source": []
  },
  {
   "cell_type": "code",
   "execution_count": null,
   "id": "393ccb8b-c4fd-4c27-91cd-21c9813df298",
   "metadata": {},
   "outputs": [],
   "source": []
  }
 ],
 "metadata": {
  "kernelspec": {
   "display_name": "data_manipulation",
   "language": "python",
   "name": "data_manipulation"
  },
  "language_info": {
   "codemirror_mode": {
    "name": "ipython",
    "version": 3
   },
   "file_extension": ".py",
   "mimetype": "text/x-python",
   "name": "python",
   "nbconvert_exporter": "python",
   "pygments_lexer": "ipython3",
   "version": "3.11.11"
  }
 },
 "nbformat": 4,
 "nbformat_minor": 5
}
