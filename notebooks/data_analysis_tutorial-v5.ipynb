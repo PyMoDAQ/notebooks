{
 "cells": [
  {
   "cell_type": "markdown",
   "id": "8c41aab9-0512-4b18-8fba-6aea8cd9e41f",
   "metadata": {
    "editable": true,
    "slideshow": {
     "slide_type": ""
    },
    "tags": []
   },
   "source": [
    "# Tutorial On Data Manipulation and analysis\n",
    "\n",
    "This tutorial is directly extracted from a jupyter notebook used to illustrate how to get your data back from a PyMoDAQ h5 file, analyze it and plot interactively these data.\n",
    "\n",
    "The analysis below is made on data taken from a Master student practical work. They had to setup and acquire a femtosecond pump-probe experiment on a gold thin film. The measured dynamic shows the electronic absorption of light from the pump laser, the quick thermalization of the electron gas with the gold film phonons and finally the expansions/contractions oscillations of the film due to the non-adiabatic energy transfer. To see the phonons oscillations, one need to repeat the pump-probe scan many times and average the data. The author thank Dr Arnaud Arbouet for the data and explanations. And if you don't understand the physics, it's not an issue as this notebook is here to show you how to load, manipulate and easily plot your data.\n",
    "\n",
    "![python](analysis_data/setup.png)\n",
    "\n"
   ]
  },
  {
   "cell_type": "markdown",
   "id": "53b44c1f-d1dc-4752-9e36-9d7f94b59abc",
   "metadata": {},
   "source": [
    "*Requirements:*\n",
    "To execute this tutorial properly, you'll need:\n",
    "\n",
    "* *pymodaq_data* >= 5.0.3 (if not released yet, you can get it from github)\n",
    "* *matplotlib* for ploting data using it\n",
    "* *pymodaq_gui* >= 5.0.2 for plotting data using Qt based pymodaq data viewers\n",
    "\n",
    "* An installation of *jupyter lab*, (see [here](https://pymodaq.cnrs.fr/tutorials/jupyter_lab.html) for a tutorial)"
   ]
  },
  {
   "cell_type": "code",
   "execution_count": 2,
   "id": "5e921542-a9de-4b12-be4e-72d7d4486932",
   "metadata": {
    "editable": true,
    "slideshow": {
     "slide_type": ""
    },
    "tags": []
   },
   "outputs": [
    {
     "name": "stdout",
     "output_type": "stream",
     "text": [
      "pymodaq_data: 5.0.4.dev0+g529e73e0.d20241017\n",
      "pymodaq_gui: 5.0.4.dev0+g1d9853fe.d20241016\n"
     ]
    }
   ],
   "source": [
    "%gui qt5 \n",
    "# magic keyword only used to start a qt event loop within the jupyter notebook framwork\n",
    "\n",
    "# importing built in modules\n",
    "from pathlib import Path\n",
    "import sys\n",
    "\n",
    "# importing third party modules\n",
    "import numpy as np\n",
    "\n",
    "# importing PymoDAQ modules\n",
    "from pymodaq_data.h5modules.saving import H5SaverLowLevel  # object to open the h5 file\n",
    "from pymodaq_data.h5modules.data_saving import DataLoader  # object used to properly load data from the h5 file\n",
    "from pymodaq_data.data import DataRaw, DataToExport, Axis\n",
    "\n",
    "from pymodaq_gui.plotting.data_viewers.viewerND import ViewerND\n",
    "\n",
    "from pymodaq_data import __version__\n",
    "print(f'pymodaq_data: {__version__}')\n",
    "\n",
    "from pymodaq_gui import __version__\n",
    "print(f'pymodaq_gui: {__version__}')"
   ]
  },
  {
   "cell_type": "markdown",
   "id": "290b276f-313d-4cb3-972b-85413bb17b72",
   "metadata": {
    "editable": true,
    "slideshow": {
     "slide_type": ""
    },
    "tags": []
   },
   "source": [
    "## Units in Python: the pint module and quantity?"
   ]
  },
  {
   "cell_type": "code",
   "execution_count": 3,
   "id": "024e1137-1f41-4f2a-be9f-b502e01e4147",
   "metadata": {
    "editable": true,
    "slideshow": {
     "slide_type": ""
    },
    "tags": []
   },
   "outputs": [
    {
     "name": "stdout",
     "output_type": "stream",
     "text": [
      "<class 'pint.Quantity'>\n",
      "299792458 m / s\n",
      "299792.458 km / s\n",
      "0.30660139378795276 pc / a\n"
     ]
    }
   ],
   "source": [
    "from pymodaq_data import Q_\n",
    "print(Q_)\n",
    "\n",
    "LIGHT_SPEED = Q_(299792458, 'm/s')  # m/s\n",
    "SOUND_SPEED_GOLD = Q_(3240, 'm/s')  # m/s\n",
    "\n",
    "print(LIGHT_SPEED)\n",
    "print(LIGHT_SPEED.to('km/s'))\n",
    "print(LIGHT_SPEED.to('parsec/year'))"
   ]
  },
  {
   "cell_type": "code",
   "execution_count": 4,
   "id": "bff0150b-1b52-416a-9d13-01e24c1a9047",
   "metadata": {
    "editable": true,
    "slideshow": {
     "slide_type": ""
    },
    "tags": []
   },
   "outputs": [
    {
     "ename": "SyntaxError",
     "evalue": "invalid syntax (2655985535.py, line 4)",
     "output_type": "error",
     "traceback": [
      "\u001b[1;36m  Cell \u001b[1;32mIn[4], line 4\u001b[1;36m\u001b[0m\n\u001b[1;33m    c_pc_mont = LIGHT_SPEED...\u001b[0m\n\u001b[1;37m                           ^\u001b[0m\n\u001b[1;31mSyntaxError\u001b[0m\u001b[1;31m:\u001b[0m invalid syntax\n"
     ]
    }
   ],
   "source": [
    "# find how to get the magnitude out of a Quantity\n",
    "# get the magnitude of LIGHT_SPEED in parsec/month\n",
    "\n",
    "c_pc_mont = LIGHT_SPEED..."
   ]
  },
  {
   "cell_type": "markdown",
   "id": "24393c0c-ec89-4f6a-acf4-3ba5c7ff59e2",
   "metadata": {
    "editable": true,
    "slideshow": {
     "slide_type": ""
    },
    "tags": []
   },
   "source": [
    "## Loading Data"
   ]
  },
  {
   "cell_type": "code",
   "execution_count": 5,
   "id": "603ca67e-a27d-47b4-82e2-ad29f99b2fb8",
   "metadata": {
    "editable": true,
    "slideshow": {
     "slide_type": ""
    },
    "tags": []
   },
   "outputs": [
    {
     "name": "stdout",
     "output_type": "stream",
     "text": [
      "/RawData/Scan012 (GROUP) 'DAQScan'\n",
      "/RawData/Scan012/Actuator000 (GROUP) 'delay'\n",
      "/RawData/Scan012/Detector000 (GROUP) 'Lockin'\n",
      "/RawData/Scan012/NavAxes (GROUP) ''\n",
      "/RawData/Scan012/Detector000/Data0D (GROUP) ''\n",
      "/RawData/Scan012/NavAxes/Axis00 (CARRAY) 'delay'\n",
      "/RawData/Scan012/NavAxes/Axis01 (CARRAY) 'Average'\n",
      "/RawData/Scan012/Detector000/Data0D/CH00 (GROUP) 'MAG'\n",
      "/RawData/Scan012/Detector000/Data0D/CH01 (GROUP) 'PHA'\n",
      "/RawData/Scan012/Detector000/Data0D/CH00/Data00 (CARRAY) 'MAG'\n",
      "/RawData/Scan012/Detector000/Data0D/CH01/Data00 (CARRAY) 'PHA'\n"
     ]
    }
   ],
   "source": [
    "dwa_loader = DataLoader('analysis_data/data.h5') # this way of loading data directly from a Path is \n",
    "#available from pymodaq>=4.2.0\n",
    "\n",
    "for node in dwa_loader.walk_nodes():\n",
    "    if 'Scan012' in str(node):\n",
    "        print(node)\n",
    "\n"
   ]
  },
  {
   "cell_type": "markdown",
   "id": "837ddd63-11ae-4aa1-aa0e-dc8fcf8becb2",
   "metadata": {
    "editable": true,
    "slideshow": {
     "slide_type": ""
    },
    "tags": []
   },
   "source": [
    "To load a particular node, use the `load_data` method with as argument the path of the node (just like file/directories/paths)\n",
    "Load the Data00 node of the channel CH01"
   ]
  },
  {
   "cell_type": "code",
   "execution_count": 6,
   "id": "c1f255b4-2c5d-4670-8eeb-171549c49132",
   "metadata": {
    "editable": true,
    "slideshow": {
     "slide_type": ""
    },
    "tags": []
   },
   "outputs": [
    {
     "name": "stdout",
     "output_type": "stream",
     "text": [
      "<DataWithAxes: PHA <u: > <len:1> (100, 392|)>\n"
     ]
    }
   ],
   "source": [
    "dwa_loaded = dwa_loader.load_data('/RawData/Scan012/Detector000/Data0D/CH01/Data00', load_all=True)\n",
    "print(dwa_loaded)\n"
   ]
  },
  {
   "cell_type": "markdown",
   "id": "6f5891c1-65ed-42c1-bc94-87e96ccf81a8",
   "metadata": {
    "editable": true,
    "slideshow": {
     "slide_type": ""
    },
    "tags": []
   },
   "source": [
    "load all channel in one object, look at the `load_data` extra arguments [here](https://pymodaq.cnrs.fr/en/latest/api/api_utility_modules/api_h5_module.html#pymodaq_data.h5modules.data_saving.DataLoader.load_data)"
   ]
  },
  {
   "cell_type": "code",
   "execution_count": 7,
   "id": "d0b18217-0f90-4709-bcd5-bf2ca02290c7",
   "metadata": {
    "editable": true,
    "slideshow": {
     "slide_type": ""
    },
    "tags": []
   },
   "outputs": [],
   "source": [
    "dwa_loaded_all = ..."
   ]
  },
  {
   "cell_type": "code",
   "execution_count": 8,
   "id": "98a598e7-9765-4452-bbbf-df6d353357c6",
   "metadata": {
    "editable": true,
    "slideshow": {
     "slide_type": ""
    },
    "tags": []
   },
   "outputs": [
    {
     "name": "stdout",
     "output_type": "stream",
     "text": [
      "800 nm\n",
      "0.3747405724999999 PHz\n",
      "2.668512761585217 fs\n"
     ]
    }
   ],
   "source": [
    "from pymodaq_utils import math_utils as mutils\n",
    "\n",
    "Nt = 256\n",
    "\n",
    "lambda0 = Q_(800, 'nm')\n",
    "f0 = lambda0.to('PHz', 'spectroscopy')\n",
    "T0 = (1 / f0).to('fs')\n",
    "\n",
    "dt = Q_(20, 'fs')\n",
    "\n",
    "Nperiod = 50\n",
    "\n",
    "Ny = 256\n",
    "time_axis = Axis('time_axis', units='fs', data=np.linspace(-Nperiod/2*T0.magnitude, Nperiod/2*T0.magnitude, Nt))\n",
    "\n",
    "alpha = 1/100\n",
    "phi = alpha * time_axis.get_data()**2\n",
    "\n",
    "print(lambda0)\n",
    "print(f0)\n",
    "print(T0)"
   ]
  },
  {
   "cell_type": "code",
   "execution_count": 16,
   "id": "99cca724-f602-47f1-96f2-82c143398a2e",
   "metadata": {
    "editable": true,
    "slideshow": {
     "slide_type": ""
    },
    "tags": []
   },
   "outputs": [
    {
     "name": "stdout",
     "output_type": "stream",
     "text": [
      "81.64850940966213\n"
     ]
    }
   ],
   "source": [
    "tau = Q_(5.5, 'fs')\n",
    "dwa_ref = DataRaw('pulse ref', data=[mutils.gauss1D(time_axis.get_data(), 0, dt.magnitude)], axes=[time_axis])\n",
    "dwa_tau = DataRaw('pulse delayed', data=[mutils.gauss1D(time_axis.get_data(), tau.magnitude, dt.magnitude)*\n",
    "                                    np.exp(1j*(time_axis.get_data() / T0.magnitude+phi))], axes=[time_axis])\n",
    "\n",
    "dwa_interf = (np.abs(dwa_tau+dwa_ref)**2).sum()\n",
    "print(dwa_interf.value())"
   ]
  },
  {
   "cell_type": "code",
   "execution_count": null,
   "id": "ebe047e6-42fe-46a7-b580-06087b728b4d",
   "metadata": {
    "editable": true,
    "slideshow": {
     "slide_type": ""
    },
    "tags": []
   },
   "outputs": [],
   "source": []
  },
  {
   "cell_type": "markdown",
   "id": "dbf392a9-df67-4120-bb28-3604b3219f62",
   "metadata": {
    "editable": true,
    "slideshow": {
     "slide_type": ""
    },
    "tags": []
   },
   "source": [
    "## Plotting data\n",
    "\n",
    "From PyMoDAQ 4.0.2 onwards, both the DataWithAxes (and its inheriting children classes) and the DataToExport objects have a `plot` method. One can specify as argument which backend to be used for plotting. At least two are available: `matplotlib` and `qt`. See below"
   ]
  },
  {
   "cell_type": "markdown",
   "id": "0dbd249d-ad2c-4892-9bbd-c7477fb17034",
   "metadata": {},
   "source": [
    "Using *matplotlib*:"
   ]
  },
  {
   "cell_type": "code",
   "execution_count": null,
   "id": "c2e237f7-04de-48a6-9aab-f8aa141c934f",
   "metadata": {},
   "outputs": [],
   "source": [
    "dwa_loaded.nav_indexes = ()  # this is converting both navigation axes: average and delay as signal axes (to be plotted in the Viewer2D)\n",
    "dwa_loaded.plot('matplotlib')"
   ]
  },
  {
   "cell_type": "markdown",
   "id": "b3684884-cfde-4c2f-bea7-ee238e644447",
   "metadata": {},
   "source": [
    "Using PyMoDAQ's data viewer (interactive and with ROIs and all other features)"
   ]
  },
  {
   "cell_type": "markdown",
   "id": "620582d9-9ccb-468f-bae8-c48f21930b31",
   "metadata": {},
   "source": [
    "![python](analysis_data/data_femto.png)"
   ]
  },
  {
   "cell_type": "markdown",
   "id": "128f39ec-3a31-490d-a307-2dc0d15b1ea1",
   "metadata": {},
   "source": [
    "The horizontal axis is a delay in millimeter (linear stage displacement, see setup) and we used a Sparsed scan with a non equal scan step (see figure below, right panel). This non linear step is why the 2D plot is different from the 1D extracted from the ROI (see above). Basically, 2D data with non linear axes cannot be plotted on a Viewer2D because this one is dedicated to uniform data and linear axes."
   ]
  },
  {
   "cell_type": "code",
   "execution_count": null,
   "id": "dfccbce3-c343-4cee-8fa7-e0198a608517",
   "metadata": {},
   "outputs": [],
   "source": [
    "delay_axis = dwa_loaded.get_axis_from_index(1)[0]\n",
    "dte = dwa_loaded.as_dte('mydata')\n",
    "dte.append(DataRaw(delay_axis.label, data=[delay_axis.get_data()]))\n",
    "dte.plot('qt')"
   ]
  },
  {
   "cell_type": "markdown",
   "id": "47e26bd7-1110-4cf2-a584-c903d8b94696",
   "metadata": {},
   "source": [
    "![python](analysis_data/data_femto_and_spread_axis.png)"
   ]
  },
  {
   "cell_type": "code",
   "execution_count": null,
   "id": "d750eebd-3dc3-42d3-b8ed-ea6b278e3f38",
   "metadata": {},
   "outputs": [],
   "source": [
    "dwa_loaded_steps = dwa_loaded.deepcopy()\n",
    "delay_axis = dwa_loaded_steps.get_axis_from_index(1)[0]\n",
    "delay_axis.data = delay_axis.create_simple_linear_data(len(delay_axis))\n",
    "delay_axis.label = 'steps'\n",
    "delay_axis.units = ''"
   ]
  },
  {
   "cell_type": "markdown",
   "id": "8439b003-1a4a-4310-8229-042fe02a74c8",
   "metadata": {},
   "source": [
    "This delay axis is for the moment in mm and reversed (the stage is going backwards to increase the delay). Let's recreate a flipped axis with seconds as units."
   ]
  },
  {
   "cell_type": "code",
   "execution_count": null,
   "id": "3582b455-4a2e-4765-8c5d-f808a4b8b554",
   "metadata": {},
   "outputs": [],
   "source": [
    "dwa_loaded_fs = dwa_loaded.deepcopy()\n",
    "delay_axis = dwa_loaded_fs.get_axis_from_index(1)[0]\n",
    "delay_axis.data = - 2 * delay_axis.get_data() / 1000 / LIGHT_SPEED  # /1000 because the dsiplacement unit\n",
    "# of the stage is in mm and the speed of light in m/s\n",
    "delay_axis.data -= delay_axis.get_data()[0]\n",
    "delay_axis.units = 's'\n",
    "print(delay_axis.get_data()[0:10])"
   ]
  },
  {
   "cell_type": "code",
   "execution_count": null,
   "id": "02f5fc53-d288-4d00-a2a4-36371f2d3fe6",
   "metadata": {},
   "outputs": [],
   "source": [
    "dwa_loaded_fs.plot('qt')"
   ]
  },
  {
   "cell_type": "code",
   "execution_count": null,
   "id": "2e7726fe-4f2f-4fb1-99da-9c8c624e2ba1",
   "metadata": {},
   "outputs": [],
   "source": [
    "dwa_loader.get_node('/RawData/Scan012/NavAxes/Axis00')[:] = delay_axis.get_data()\n",
    "dwa_loader.get_node('/RawData/Scan012/Detector000/Data0D/CH00/Data00')[:] = dwa_loaded_fs[0]\n",
    "dwa_loader.close_file()\n"
   ]
  },
  {
   "cell_type": "markdown",
   "id": "c0282df6-7092-448a-93d0-c9cff3c0210c",
   "metadata": {},
   "source": [
    "![python](analysis_data/data_femto_fs.png)"
   ]
  },
  {
   "cell_type": "markdown",
   "id": "cd5f86e1-9c0f-4dd5-b148-6fc92e82e927",
   "metadata": {},
   "source": [
    "# Data Analysis\n",
    "\n",
    "Now we got our data, one can extract infos from it\n",
    "\n",
    "* life-time of the electrons -> phonons thermalization\n",
    "* Oscillation period of the phonons vibration\n",
    "\n",
    "To do this, one will properly slice the data correpsonding to the electrons and the one corresponding to the phonons. To get the scan index to use for slicing, one will plot the raw data as a function of scan steps and extract the index using ROIs"
   ]
  },
  {
   "cell_type": "code",
   "execution_count": null,
   "id": "60320086-3db5-4cbf-bfb4-3ac4e3a1abd9",
   "metadata": {},
   "outputs": [],
   "source": [
    "dwa_loaded_steps.plot('qt')"
   ]
  },
  {
   "cell_type": "markdown",
   "id": "2baaca54-f5a8-432e-acb3-9d3df16d2ec0",
   "metadata": {},
   "source": [
    "![python](analysis_data/data_femto_roi.png)"
   ]
  },
  {
   "cell_type": "markdown",
   "id": "a9e5962a-1849-46ba-ab1e-11aa80fa7d6a",
   "metadata": {},
   "source": [
    "The ROi Manager (on the right, not visible here) tell us to use:"
   ]
  },
  {
   "cell_type": "code",
   "execution_count": null,
   "id": "f324d951-7cf9-4f63-ad3f-592371c6f57e",
   "metadata": {},
   "outputs": [],
   "source": [
    "indexes_electrons = (70, 390)\n",
    "indexes_phonons = (100, 300)\n",
    "indexes_average = (0, 40) # we are not using all the averaging because the gold film seems\n",
    "# to be dying as time goes on..."
   ]
  },
  {
   "cell_type": "markdown",
   "id": "0b3ad0b2-3144-4898-a340-56e2744f14f6",
   "metadata": {},
   "source": [
    "First we slice the data over the average indexes and the electron indexes\n",
    "This is done easily using the `isig` slicer (sig for signal axes. For navigation one should use the `inav` slicer)"
   ]
  },
  {
   "cell_type": "code",
   "execution_count": null,
   "id": "d98bd3d8-12e8-4c49-a878-4c32a09e538a",
   "metadata": {},
   "outputs": [],
   "source": [
    "dwa_electrons = dwa_loaded_fs.isig[slice(*indexes_average), slice(*indexes_electrons)].mean(0)\n",
    "print(dwa_electrons)\n",
    "\n",
    "dwa_phonons = dwa_loaded_fs.isig[slice(*indexes_average), slice(*indexes_phonons)].mean(0)\n",
    "print(dwa_phonons)"
   ]
  },
  {
   "cell_type": "code",
   "execution_count": null,
   "id": "ca110924-71da-4e15-848a-d03bd8477046",
   "metadata": {},
   "outputs": [],
   "source": [
    "dte = DataToExport('mydata', data=[dwa_electrons, dwa_phonons])\n",
    "print(dte)\n",
    "dte.plot('qt')"
   ]
  },
  {
   "cell_type": "markdown",
   "id": "b78bdcd2-d5df-443c-95bb-b2290573d62e",
   "metadata": {},
   "source": [
    "![python](analysis_data/data_femto_extracted.png)\n",
    "\n",
    "## Fitting the Data\n",
    "\n",
    "### Electrons:"
   ]
  },
  {
   "cell_type": "code",
   "execution_count": null,
   "id": "8d7d2fa5-c5ba-43c9-a7bf-2a5b7774777d",
   "metadata": {},
   "outputs": [],
   "source": [
    "def my_lifetime(x, A, B, C, tau):\n",
    "    return A + C * np.exp(-(x - B)/tau)\n",
    "\n",
    "time_axis = dwa_electrons.axes[0].get_data()\n",
    "initial_guess = (2e-7, 10e-12, 7e-6, 3e-11)\n",
    "\n",
    "dwa_electrons_fitted = dwa_electrons.fit(my_lifetime, initial_guess=initial_guess)\n",
    "dwa_electrons_fitted.append(dwa_electrons)\n",
    "dwa_electrons_fitted.plot('qt')"
   ]
  },
  {
   "cell_type": "markdown",
   "id": "6b23271d-e4d1-4025-ab4a-dcc2135e8c8b",
   "metadata": {},
   "source": [
    "![python](analysis_data/fit_electrons.png)"
   ]
  },
  {
   "cell_type": "markdown",
   "id": "ae73c2e9-246d-4c87-ae22-1625a95eeb28",
   "metadata": {},
   "source": [
    "One get a life time of about:"
   ]
  },
  {
   "cell_type": "code",
   "execution_count": null,
   "id": "82d2d089-0057-415f-803d-e0d94472dec8",
   "metadata": {},
   "outputs": [],
   "source": [
    "f'Life time: {dwa_electrons_fitted.fit_coeffs[0][3] *1e12} ps'"
   ]
  },
  {
   "cell_type": "markdown",
   "id": "abf6312d-82be-43cb-a590-dccd6a174d28",
   "metadata": {},
   "source": [
    "### Phonons:\n",
    "For the phonons, it seems we have to analyse oscillations. The best for this is a Fourier Transform analysis. However because of the sparse scan the sampling at the begining is different from the one at the end. We'll have to resample our data on a regular grid before doing Fourier Transform\n",
    "\n",
    "#### Resampling"
   ]
  },
  {
   "cell_type": "code",
   "execution_count": null,
   "id": "985d89a2-6ac0-4a75-8e9a-b7cdb09a43c0",
   "metadata": {},
   "outputs": [],
   "source": [
    "from pymodaq.utils import math_utils as mutils\n",
    "from pymodaq.utils.data import Axis\n",
    "phonon_axis_array = dwa_phonons.get_axis_from_index(0)[0].get_data()\n",
    "phonon_axis_array -= phonon_axis_array[0]\n",
    "time_step = phonon_axis_array[-1] - phonon_axis_array[-2]\n",
    "time_array_linear = mutils.linspace_step(0, phonon_axis_array[-1], time_step)\n",
    "dwa_phonons_interp = dwa_phonons.interp(time_array_linear)\n",
    "\n",
    "dwa_phonons_interp.plot('qt')"
   ]
  },
  {
   "cell_type": "markdown",
   "id": "8e335293-c4e8-4a4e-af1f-e554e6d9615b",
   "metadata": {},
   "source": [
    "#### FFT"
   ]
  },
  {
   "cell_type": "code",
   "execution_count": null,
   "id": "5dfbde8b-2b93-4360-8a8b-10676e8bfef1",
   "metadata": {
    "editable": true,
    "slideshow": {
     "slide_type": ""
    },
    "tags": []
   },
   "outputs": [],
   "source": [
    "dwa_fft = dwa_phonons_interp.ft()\n",
    "\n",
    "dwa_phonons_fft = DataToExport('FFT', data=[\n",
    "    dwa_phonons_interp,\n",
    "    dwa_fft.abs(),\n",
    "    dwa_fft.abs(),\n",
    "    dwa_fft.abs()])\n",
    "dwa_phonons_fft.plot('qt')"
   ]
  },
  {
   "cell_type": "markdown",
   "id": "27275aab-07d2-4ff7-863f-b847f2eb37f2",
   "metadata": {},
   "source": [
    "![python](analysis_data/data_fft.png)\n",
    "\n",
    "Temporal data and FFT amplitude (top). Zoom over the two first harmonics (bottom)"
   ]
  },
  {
   "cell_type": "markdown",
   "id": "530204db-68ea-439a-a37c-f1f75ab798c3",
   "metadata": {},
   "source": [
    "Using advanced math processors to extract data from dwa:\n"
   ]
  },
  {
   "cell_type": "code",
   "execution_count": null,
   "id": "a99c6dc5-6758-4dea-a934-22accf73c125",
   "metadata": {},
   "outputs": [],
   "source": [
    "from pymodaq.post_treatment.process_to_scalar import DataProcessorFactory\n",
    "data_processors = DataProcessorFactory()\n",
    "print('Implemented possible processing methods, can be applied to any data type and dimensionality')\n",
    "print(data_processors.keys)\n",
    "dwa_processed = data_processors.get('argmax').process(dwa_fft.abs())\n",
    "print(dwa_processed[0])"
   ]
  },
  {
   "cell_type": "markdown",
   "id": "822393d5-d93f-4dca-ae97-1ff524d01c43",
   "metadata": {},
   "source": [
    "or using builtin math methods applicable only to 1D data:"
   ]
  },
  {
   "cell_type": "code",
   "execution_count": null,
   "id": "a80010d0-30e7-4fa5-9413-285264982268",
   "metadata": {},
   "outputs": [],
   "source": [
    "dte_peaks = dwa_fft.abs().find_peaks(height=1e-6) \n",
    "print(dte_peaks[0].axes[0].get_data() / (2*np.pi))\n",
    "\n",
    "dte_peaks[0].axes[0].as_dwa().plot('matplotlib', 'o-r')  # transforms an Axis object to dwa for quick plotting\n",
    "\n",
    "dte_peaks[0].get_data_as_dwa(0).plot('matplotlib', 'o-b')  # select part of the data object for \"selected\" plotting"
   ]
  },
  {
   "cell_type": "markdown",
   "id": "ac0a33f5-1615-4e00-83db-cc0a820bb46a",
   "metadata": {},
   "source": [
    "*From this one get a fundamental frequency of 5.32e10 Hz that corresponds to a period of:*"
   ]
  },
  {
   "cell_type": "code",
   "execution_count": null,
   "id": "b5f7f40c-eb2d-423a-b2cf-9e8f8471027b",
   "metadata": {},
   "outputs": [],
   "source": [
    "T_phonons = 1/5.32e10\n",
    "print(f'Period T = {T_phonons * 1e12} ps')"
   ]
  },
  {
   "cell_type": "markdown",
   "id": "99b39679-6412-420a-90e2-0b2290a36cf7",
   "metadata": {},
   "source": [
    "From this period and the speed of sound in gold, one can infer the gold film thickness:"
   ]
  },
  {
   "cell_type": "code",
   "execution_count": null,
   "id": "e8d0129f-c0e7-436e-abe9-2646ba024b49",
   "metadata": {},
   "outputs": [],
   "source": [
    "thickness = T_phonons / 2 * SOUND_SPEED_GOLD\n",
    "print(f\"Gold Thickness: {thickness * 1e9} nm\")"
   ]
  }
 ],
 "metadata": {
  "kernelspec": {
   "display_name": "pmd5_dev",
   "language": "python",
   "name": "pmd5_dev"
  },
  "language_info": {
   "codemirror_mode": {
    "name": "ipython",
    "version": 3
   },
   "file_extension": ".py",
   "mimetype": "text/x-python",
   "name": "python",
   "nbconvert_exporter": "python",
   "pygments_lexer": "ipython3",
   "version": "3.11.9"
  }
 },
 "nbformat": 4,
 "nbformat_minor": 5
}
